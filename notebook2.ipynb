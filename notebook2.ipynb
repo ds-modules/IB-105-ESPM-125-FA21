{
 "cells": [
  {
   "cell_type": "markdown",
   "metadata": {
    "#student": false
   },
   "source": [
    "# Biogeography Notebook 2\n",
    "\n",
    "The goal of this notebook is to access and integrate diverse data sets to visualize correlations and discover patterns to address questions of species’ responses to environmental change. We will use programmatic tools to show how to use Berkeley resources such as the biodiversity data from biocollections and online databases, field stations, climate models, and other environmental data.\n",
    "\n",
    "This notebook is a continuation of [Biogeography Notebook 1](\n",
    "http://datahub.berkeley.edu/user-redirect/interact?account=ds-modules&repo=IB-ESPM-105&branch=master&path=fall2019/notebook1.ipynb).\n",
    "\n",
    "If you have any questions getting the Jupyter notebook to run, try dropping into [data peer consulting](https://data.berkeley.edu/education/data-peer-consulting).\n",
    "\n",
    "## Table of Contents\n",
    "\n",
    "3 - [Mapping](#mapping)\n",
    "\n",
    "4 - [Comparing California Oak Species](#oak)\n",
    "\n",
    "5 - [Cal-Adapt](#caladapt)"
   ]
  },
  {
   "cell_type": "markdown",
   "metadata": {
    "#student": false
   },
   "source": [
    "## Helpful Reminders: ###\n",
    "\n",
    "### Text cells\n",
    "In a notebook, each rectangle containing text or code is called a *cell*.\n",
    "\n",
    "Text cells (like this one) can be edited by double-clicking on them. They're written in a simple format called [Markdown](http://daringfireball.net/projects/markdown/syntax) to add formatting and section headings.  You don't need to learn Markdown, but you might want to.\n",
    "\n",
    "After you edit a text cell, click the \"run cell\" button at the top to confirm any changes. (Try not to delete the instructions of the lab.)\n",
    "\n",
    "**The only text cells that need to be modified are labeled \"YOUR RESPONSE HERE\" and are right below yellow question boxes. To edit a response, double click on YOUR RESPONSE HERE and type in your answer. Afterwards, run the cell with Shift-Enter.**\n",
    "\n",
    "### Code cells\n",
    "Other cells contain code in the Python 3 language. Running a code cell will execute all of the code it contains.\n",
    "\n",
    "To run the code in a code cell, first click on that cell to activate it.  It'll be highlighted with a little green or blue rectangle.  Next, either press the Run button or hold down the `shift` key and press `return` or `enter`.\n",
    "\n",
    "The only code cells that need to be modified are right below a blue exercise box.\n",
    "\n",
    "### Comments\n",
    "Comments are statements in English that the computer ignores. We use comments to explain what the surrounding code does. Comments appear in green after the `#` symbol like below:"
   ]
  },
  {
   "cell_type": "code",
   "execution_count": null,
   "metadata": {
    "#student": false
   },
   "outputs": [],
   "source": [
    "1 + 2 # After you run this, you should see 3 as the output"
   ]
  },
  {
   "cell_type": "markdown",
   "metadata": {
    "#student": false
   },
   "source": [
    "Run this cell to set up the programming environment. It will take a few seconds."
   ]
  },
  {
   "cell_type": "code",
   "execution_count": null,
   "metadata": {
    "#student": false
   },
   "outputs": [],
   "source": [
    "%%capture\n",
    "!pip install --no-cache-dir shapely\n",
    "!pip install -U folium\n",
    "\n",
    "%matplotlib inline\n",
    "\n",
    "import pandas as pd\n",
    "import folium\n",
    "import json\n",
    "from pandas import json_normalize\n",
    "\n",
    "from shapely.geometry import Point, mapping\n",
    "from shapely.geometry.polygon import Polygon\n",
    "from shapely import geometry as sg, wkt\n",
    "from scripts.espm_module import *\n",
    "from IPython.core.display import display, HTML\n",
    "import matplotlib.pyplot as plt\n",
    "import otter\n",
    "from otter.export import export_notebook\n",
    "\n",
    "plt.style.use('seaborn')"
   ]
  },
  {
   "cell_type": "markdown",
   "metadata": {
    "#student": false
   },
   "source": [
    "# Part 3: Mapping  <a id='mapping'></a>"
   ]
  },
  {
   "cell_type": "markdown",
   "metadata": {
    "#student": false
   },
   "source": [
    "In programming, we often reuse chunks of code. So instead of copy/pasting it and repeating the same code over and over again, we have something called a **function**, which gives a name to a block of code. This allows us to just call the function instead of rewriting code we used before."
   ]
  },
  {
   "cell_type": "markdown",
   "metadata": {
    "#student": false
   },
   "source": [
    "For example, this is a function that squares an input."
   ]
  },
  {
   "cell_type": "code",
   "execution_count": null,
   "metadata": {
    "#student": false
   },
   "outputs": [],
   "source": [
    "# This code creates a function named square\n",
    "def square(n):\n",
    "    return n * n"
   ]
  },
  {
   "cell_type": "code",
   "execution_count": null,
   "metadata": {
    "#student": false
   },
   "outputs": [],
   "source": [
    "# Let's find the square of 5\n",
    "square(5)"
   ]
  },
  {
   "cell_type": "code",
   "execution_count": null,
   "metadata": {
    "#student": false
   },
   "outputs": [],
   "source": [
    "# Let's try it with -3\n",
    "square(-3)"
   ]
  },
  {
   "cell_type": "markdown",
   "metadata": {
    "#student": false
   },
   "source": [
    "Our use of functions later in the notebook is more complex than this example. We will use them in order to reduce the amount of code in this notebook. For now, you can just ignore the details and structure of how functions work. Just remember that a **function** is a shortcut to easily re-run old code and that the `def` keyword means we are creating a function."
   ]
  },
  {
   "cell_type": "markdown",
   "metadata": {
    "#student": false
   },
   "source": [
    "---"
   ]
  },
  {
   "cell_type": "markdown",
   "metadata": {
    "#student": false
   },
   "source": [
    "These functions get the species record from the API (like in Part 2). The function `get_species_record` gives us the raw/unorganized records, while `get_species_records_df` gives us the data in a **DataFrame** (table of data). It uses the same commands as we used in Part 2."
   ]
  },
  {
   "cell_type": "code",
   "execution_count": null,
   "metadata": {
    "#student": false
   },
   "outputs": [],
   "source": [
    "def get_species_records(scientific_name):\n",
    "    req = GBIFRequest()  # creating a request to the API\n",
    "    params = {'scientificName': scientific_name}  # setting our parameters (the specific species we want)\n",
    "    pages = req.get_pages(params)  # using those parameters to complete the request\n",
    "    records = [rec for page in pages for rec in page['results'] if rec.get('decimalLatitude')]  # sift out valid records\n",
    "    return records\n",
    "    \n",
    "def get_species_records_df(scientific_name):\n",
    "    records = get_species_records(scientific_name) # Get the records using the function above\n",
    "    records_df = json_normalize(records) # Convert the raw records into a DataFrame\n",
    "    return records_df"
   ]
  },
  {
   "cell_type": "markdown",
   "metadata": {
    "#student": false
   },
   "source": [
    "This creates the **DataFrame** (table of data) we used in Part 2 using one of the functions we defined in the cell above. It will take a few seconds to get the records from the API."
   ]
  },
  {
   "cell_type": "code",
   "execution_count": null,
   "metadata": {
    "#student": false,
    "scrolled": false
   },
   "outputs": [],
   "source": [
    "argia_agrioides_df = get_species_records_df('Argia agrioides')\n",
    "argia_agrioides_df.head() # Show the first 5 records"
   ]
  },
  {
   "cell_type": "markdown",
   "metadata": {
    "#student": false
   },
   "source": [
    "Since we are about to map all of the _Argia agrioides_ specimen by their collection, let's assign each collection a color. These colors are chosen randomly each time the cell is run so you can re-run the cell if you don't like them."
   ]
  },
  {
   "cell_type": "code",
   "execution_count": null,
   "metadata": {
    "#student": false
   },
   "outputs": [],
   "source": [
    "color_dict, html_key = assign_colors(argia_agrioides_df, 'collectionCode')\n",
    "display(HTML(html_key))"
   ]
  },
  {
   "cell_type": "markdown",
   "metadata": {
    "#student": false
   },
   "source": [
    "Folium is a useful library for generating map visualizations. Here, we create a function that handles the Folium mapping for us."
   ]
  },
  {
   "cell_type": "code",
   "execution_count": null,
   "metadata": {
    "#student": false
   },
   "outputs": [],
   "source": [
    "# This function generates a map visualization using data from species_df and child (if a value is given)\n",
    "# Grouping Criteria tells Folium how to group specimen by color (ex. by collection or by species)\n",
    "# Child is any secondary data we want to display (ex. UC Reserve boundaries)\n",
    "def map_species_with_folium(species_df, grouping_criteria, child=None):\n",
    "    map = folium.Map(location=[37.359276, -122.179626], zoom_start=5) # Creates the starting map location & zoom\n",
    "    if child: # If a child is given, add it to the map\n",
    "        map.add_child(child)\n",
    "    for r in species_df.iterrows(): # For ever specimen in the species record, do the following:\n",
    "        lat, long = r[1]['decimalLatitude'], r[1]['decimalLongitude'] # Get the specimen latitude/longitude\n",
    "        # Add the specimen to the map\n",
    "        folium.CircleMarker((lat, long), color=color_dict[r[1][grouping_criteria]]).add_to(map)\n",
    "    return map"
   ]
  },
  {
   "cell_type": "markdown",
   "metadata": {
    "#student": false
   },
   "source": [
    "Let's map the _Argia agrioides_ specimen distribution using the function we just created."
   ]
  },
  {
   "cell_type": "code",
   "execution_count": null,
   "metadata": {
    "#student": false,
    "scrolled": false
   },
   "outputs": [],
   "source": [
    "argia_agrioides_map = map_species_with_folium(argia_agrioides_df, 'collectionCode')\n",
    "argia_agrioides_map"
   ]
  },
  {
   "cell_type": "markdown",
   "metadata": {
    "#student": false
   },
   "source": [
    "---"
   ]
  },
  {
   "cell_type": "markdown",
   "metadata": {
    "#student": false
   },
   "source": [
    "Let's map the distribution of _Argia agrioides_ with the boundaries of UC Reserves.\n",
    "\n",
    "To get the boundaries for all the reserves, we will need to send a request to get GeoJSON, which is a format for encoding a variety of geographic data structures. With this code, we can request GeoJSON for all reserves and plot ocurrences of the species.\n",
    "\n",
    "First, we'll assign the API URL that has the data to a new variable `url`. Then, we make the requests just like we did earlier through the GBIF. You'll see a huge mess of mostly numbers. This is a JSON of all the UC Reserves and the coordinates of their boundaries."
   ]
  },
  {
   "cell_type": "code",
   "execution_count": null,
   "metadata": {
    "#student": false
   },
   "outputs": [],
   "source": [
    "url = 'https://ecoengine.berkeley.edu/api/layers/reserves/features/'\n",
    "reserves = requests.get(url, params={'page_size': 30}).json()\n",
    "reserves"
   ]
  },
  {
   "cell_type": "markdown",
   "metadata": {
    "#student": false
   },
   "source": [
    "There are some reserves that the EcoEngine didn't catch. We'll add the information for \"Blodgett\", \"Hopland\", and \"Sagehen\" manually."
   ]
  },
  {
   "cell_type": "code",
   "execution_count": null,
   "metadata": {
    "#student": false
   },
   "outputs": [],
   "source": [
    "station_urls = {\n",
    "    'Blodgett Reserve': 'https://raw.githubusercontent.com/BNHM/spatial-layers/master/wkt/BlodgettForestResearchStation.wkt',\n",
    "    'Hopland Reserve': 'https://raw.githubusercontent.com/BNHM/spatial-layers/master/wkt/HoplandResearchAndExtensionCenter.wkt',\n",
    "    'Sagehen Reserve': 'https://raw.githubusercontent.com/BNHM/spatial-layers/master/wkt/SagehenCreekFieldStation.wkt'\n",
    "}\n",
    "reserves['features'] += [{'type': 'Feature', 'properties': {'name': name}, 'geometry':\n",
    "                          mapping(wkt.loads(requests.get(url).text))} for name, url in station_urls.items()]"
   ]
  },
  {
   "cell_type": "markdown",
   "metadata": {
    "#student": false
   },
   "source": [
    "This code goes through our list of reserves and outputs their names. Make sure \"Blodgett\", \"Hopland\", and \"Sagehen\" are included!"
   ]
  },
  {
   "cell_type": "code",
   "execution_count": null,
   "metadata": {
    "#student": false
   },
   "outputs": [],
   "source": [
    "[r['properties']['name'] for r in reserves['features']]"
   ]
  },
  {
   "cell_type": "markdown",
   "metadata": {
    "#student": false
   },
   "source": [
    "We can send this `geojson` directly to our mapping library `folium`. We already defined a function to do this for us, so the code is much shorter. You'll have to zoom in, but you should see blue outlined areas. Those are the reserves!"
   ]
  },
  {
   "cell_type": "code",
   "execution_count": null,
   "metadata": {
    "#student": false
   },
   "outputs": [],
   "source": [
    "reserve_points = folium.features.GeoJson(reserves) # This tells Folium our reserve boundaries\n",
    "argia_agrioides_and_reserves_map = map_species_with_folium(argia_agrioides_df, 'collectionCode', child=reserve_points)\n",
    "argia_agrioides_and_reserves_map"
   ]
  },
  {
   "cell_type": "markdown",
   "metadata": {
    "#student": false
   },
   "source": [
    "**To answer the question, double click on YOUR RESPONSE HERE. Then run the cell afterwards.**"
   ]
  },
  {
   "cell_type": "markdown",
   "metadata": {
    "#student": false
   },
   "source": [
    "<!-- BEGIN QUESTION -->\n",
    "\n",
    "<div class=\"alert alert-block alert-warning\">\n",
    "    <b>QUESTION 1:</b>\n",
    "    <br />\n",
    "    The UC Reserves are a tremendous resource for researchers and students. You can zoom in to make the reserve boundaries more visible and see the geographic characteristics of each reserve. \n",
    "    <br />\n",
    "    Find one reserve where <i>A. agrioides</i> was collected. Do the characteristics of the reserve fit with what you know about the biology of <i>Agria agrioides</i> (mainly lower elevation, riparian zone). Is there another reserve that also seems like it is a suitable habitat?\n",
    "</div>"
   ]
  },
  {
   "cell_type": "markdown",
   "metadata": {
    "#student": true
   },
   "source": [
    "\n",
    "\n",
    "YOUR RESPONSE HERE\n",
    "\n",
    "<!-- END QUESTION -->"
   ]
  },
  {
   "cell_type": "markdown",
   "metadata": {
    "#student": false
   },
   "source": [
    "---"
   ]
  },
  {
   "cell_type": "markdown",
   "metadata": {
    "#student": false
   },
   "source": [
    "Now that we've mapped the _Agria agrioides_ specimen, let's do that with a different species."
   ]
  },
  {
   "cell_type": "markdown",
   "metadata": {
    "#student": false
   },
   "source": [
    "<!-- BEGIN QUESTION -->\n",
    "\n",
    "<div class=\"alert alert-block alert-info\">\n",
    "    <b>EXERCISE 1:</b>\n",
    "    <br />\n",
    "    Pick a species and replace ... with its scientific name. Make sure to add quotation marks around the name!\n",
    "</div>\n",
    "\n",
    "**Hint:** Here's what the code looks like if we used _Argia agrioides_ again:\n",
    "```\n",
    "my_species_df = get_species_records_df('Argia agrioides')\n",
    "my_species_df.head()\n",
    "```"
   ]
  },
  {
   "cell_type": "code",
   "execution_count": null,
   "metadata": {
    "#student": false
   },
   "outputs": [],
   "source": [
    "# print pdf\n",
    "my_species_df = get_species_records_df('...')\n",
    "my_species_df.head() # Show the first 5 records"
   ]
  },
  {
   "cell_type": "markdown",
   "metadata": {
    "#student": false
   },
   "source": [
    "<!-- END QUESTION -->\n",
    "\n",
    "If the output above doesn't contain a table, that means either you didn't enter a name or the scientific name isn't in the database. Make sure you typed it correctly without abbreviating the species name. You might also have to use a different capitalization."
   ]
  },
  {
   "cell_type": "markdown",
   "metadata": {
    "#student": false
   },
   "source": [
    "<!-- BEGIN QUESTION -->\n",
    "\n",
    "\n",
    "<div class=\"alert alert-block alert-info\">\n",
    "    <b>EXERCISE 2:</b>\n",
    "    <br />\n",
    "    Assign colors to each collection by replacing ... with the name of the DataFrame we just created (my_species_df). Make sure you <b>don't</b> add quotation marks this time! Also, be careful to not accidentally delete the comma!\n",
    "</div>\n",
    "\n",
    "**Hint:** Here's what the code looks like with the `argia_agrioides_df` DataFrame:\n",
    "```\n",
    "color_dict, html_key = assign_colors(argia_agrioides_df, 'collectionCode')\n",
    "display(HTML(html_key))\n",
    "```"
   ]
  },
  {
   "cell_type": "code",
   "execution_count": null,
   "metadata": {
    "#student": false
   },
   "outputs": [],
   "source": [
    "# print in pdf\n",
    "color_dict, html_key = assign_colors(my_species_df, 'collectionCode')\n",
    "display(HTML(html_key))"
   ]
  },
  {
   "cell_type": "markdown",
   "metadata": {
    "#student": false
   },
   "source": [
    "<!-- END QUESTION -->\n",
    "\n",
    "\n",
    "Let's map your species with Folium!"
   ]
  },
  {
   "cell_type": "markdown",
   "metadata": {
    "#student": false
   },
   "source": [
    "<!-- BEGIN QUESTION -->\n",
    "\n",
    "\n",
    "<div class=\"alert alert-block alert-info\">\n",
    "    <b>EXERCISE 3:</b>\n",
    "    <br />\n",
    "    Now let's map your species. Replace ... with the name of the DataFrame we just created (my_species_df). Make sure you <b>don't</b> add quotation marks this time! Also, be careful to not accidentally delete the comma!\n",
    "</div>\n",
    "\n",
    "**Hint:** Here's what the code looks like with the `argia_agrioides_df` DataFrame:\n",
    "```\n",
    "reserve_points = folium.features.GeoJson(reserves) # Adds reserve boundaries\n",
    "my_species_map = map_species_with_folium(argia_agrioides_df, 'collectionCode', child=reserve_points)\n",
    "my_species_map\n",
    "```"
   ]
  },
  {
   "cell_type": "code",
   "execution_count": null,
   "metadata": {
    "#student": false
   },
   "outputs": [],
   "source": [
    "#print out pdf\n",
    "reserve_points = folium.features.GeoJson(reserves) # Adds reserve boundaries\n",
    "my_species_map = map_species_with_folium(..., 'collectionCode', child=reserve_points)\n",
    "my_species_map"
   ]
  },
  {
   "cell_type": "markdown",
   "metadata": {
    "#student": false
   },
   "source": [
    "<!-- END QUESTION -->\n",
    "\n",
    "<!-- BEGIN QUESTION -->\n",
    "\n",
    "\n",
    "\n",
    "<div class=\"alert alert-block alert-warning\">\n",
    "    <b>QUESTION 2:</b>\n",
    "    <br />\n",
    "    Make some inferences about the biology of your mapped organism from the mapped distribution. Consider the end of the species range. What conditions (both biotic and abiotic) might be limiting the range?\n",
    "</div>"
   ]
  },
  {
   "cell_type": "markdown",
   "metadata": {
    "#student": true
   },
   "source": [
    "\n",
    "YOUR RESPONSE HERE\n",
    "\n",
    "<!-- END QUESTION -->"
   ]
  },
  {
   "cell_type": "markdown",
   "metadata": {
    "#student": false
   },
   "source": [
    "---"
   ]
  },
  {
   "cell_type": "markdown",
   "metadata": {
    "#student": false
   },
   "source": [
    "Now let's go back to looking at _Argia argrioides_.\n",
    "\n",
    "We can also find out which stations have how many _Argia argrioides_. First we'll have to add a column to our DataFrame that makes points out of the latitude and longitude coordinates."
   ]
  },
  {
   "cell_type": "code",
   "execution_count": null,
   "metadata": {
    "#student": false
   },
   "outputs": [],
   "source": [
    "station_df = argia_agrioides_df\n",
    "\n",
    "def make_point(row):\n",
    "    return Point(row['decimalLongitude'], row['decimalLatitude'])\n",
    "\n",
    "station_df['point'] = station_df.apply(lambda row: make_point (row), axis=1)"
   ]
  },
  {
   "cell_type": "markdown",
   "metadata": {
    "#student": false
   },
   "source": [
    "Now we can write a little function to check whether that point is in one of the stations, and if it is, we'll add that station in a new column called `station`. Then we'll apply that function the DataFrame."
   ]
  },
  {
   "cell_type": "code",
   "execution_count": null,
   "metadata": {
    "#student": false,
    "scrolled": true
   },
   "outputs": [],
   "source": [
    "def in_station(reserves, row):\n",
    "    reserve_polygons = []\n",
    "    for r in reserves['features']:\n",
    "        name, poly = r['properties']['name'], sg.shape(r['geometry'])\n",
    "        reserve_polygons.append({'id': name, 'geometry': poly})\n",
    "    sid = False\n",
    "    for r in reserve_polygons:\n",
    "        if r['geometry'].contains(row['point']):\n",
    "            sid = r['id']\n",
    "    return sid\n",
    "\n",
    "station_df['station'] = station_df.apply(lambda row: in_station(reserves, row),axis=1)\n",
    "in_stations_df = station_df[station_df['station'] != False]\n",
    "in_stations_df.head()"
   ]
  },
  {
   "cell_type": "markdown",
   "metadata": {
    "#student": false
   },
   "source": [
    "Let's see if this corresponds to what we observed on the map:"
   ]
  },
  {
   "cell_type": "code",
   "execution_count": null,
   "metadata": {
    "#student": false
   },
   "outputs": [],
   "source": [
    "in_stations_df.groupby(['species', 'station'])['station'].count().unstack().plot.barh(stacked=True);"
   ]
  },
  {
   "cell_type": "markdown",
   "metadata": {
    "#student": false
   },
   "source": [
    "---"
   ]
  },
  {
   "cell_type": "markdown",
   "metadata": {
    "#student": false
   },
   "source": [
    "# Part 4: Comparing California Oak Species  <a id='oak'></a>"
   ]
  },
  {
   "cell_type": "markdown",
   "metadata": {
    "#student": false
   },
   "source": [
    "Instead of investigating just one species, let’s compare several different species.\n",
    "\n",
    "California oaks are common woody plants across North America. Almost all oaks are trees, but in drier areas they can be found as shrub oaks in poorer soils. Thus, they can be a great model system to illuminate the processes of speciation, adaptation, and expression. Let’s see their distribution!"
   ]
  },
  {
   "cell_type": "markdown",
   "metadata": {
    "#student": false
   },
   "source": [
    "<table style='center'>\n",
    "  <tr>\n",
    "    <td style=\"text-align: center; vertical-align: middle;\">\n",
    "        <img src=\"https://upload.wikimedia.org/wikipedia/commons/thumb/6/6d/Large_Blue_Oak.jpg/220px-Large_Blue_Oak.jpg\" alt=\"Quercus douglassi\" />\n",
    "        <br />\n",
    "        Quercus douglassi\n",
    "    </td>\n",
    "    <td style=\"text-align: center; vertical-align: middle;\">\n",
    "        <img src=\"https://upload.wikimedia.org/wikipedia/commons/thumb/8/86/Valley_Oak_Mount_Diablo.jpg/220px-Valley_Oak_Mount_Diablo.jpg\" alt=\"Quercus lobata\" />\n",
    "        <br />\n",
    "        Quercus lobata\n",
    "    </td>\n",
    "  </tr>\n",
    "  <tr>\n",
    "    <td style=\"text-align: center; vertical-align: middle;\">\n",
    "        <img src=\"https://upload.wikimedia.org/wikipedia/commons/thumb/b/b8/Quercusduratadurata.jpg/220px-Quercusduratadurata.jpg\" alt=\"Quercus durata\" />\n",
    "        <br />\n",
    "        Quercus durata\n",
    "    </td>\n",
    "    <td style=\"text-align: center; vertical-align: middle;\">\n",
    "        <img src=\"https://upload.wikimedia.org/wikipedia/commons/thumb/d/d1/Quercus_agrifolia_foliage.jpg/220px-Quercus_agrifolia_foliage.jpg\" alt=\"Quercus agrifolia\" />\n",
    "        <br />\n",
    "        Quercus agrifolia\n",
    "    </td>\n",
    "  </tr>\n",
    "</table>"
   ]
  },
  {
   "cell_type": "markdown",
   "metadata": {
    "#student": false
   },
   "source": [
    "Let's get the California oak records. This cell will take a while to run (about 30 seconds)."
   ]
  },
  {
   "cell_type": "code",
   "execution_count": null,
   "metadata": {
    "#student": false
   },
   "outputs": [],
   "source": [
    "species_dfs = []\n",
    "species = ['Quercus douglassi', 'Quercus lobata', 'Quercus durata', 'Quercus agrifolia']\n",
    "\n",
    "# Here, we're getting the species record from the API for the four species of oak trees listed above\n",
    "for s in species:\n",
    "    species_dfs.append(get_species_records_df(s))\n",
    "\n",
    "# Combine the data we received into one DataFrame\n",
    "oak_df = pd.concat(species_dfs, axis=0, sort=True)"
   ]
  },
  {
   "cell_type": "code",
   "execution_count": null,
   "metadata": {
    "#student": false
   },
   "outputs": [],
   "source": [
    "oak_df.head() # Show the first 5 rows of our data"
   ]
  },
  {
   "cell_type": "markdown",
   "metadata": {
    "#student": false
   },
   "source": [
    "The table above only shows us the first 5 rows. Run the cell below to see how many total records we have."
   ]
  },
  {
   "cell_type": "code",
   "execution_count": null,
   "metadata": {
    "#student": false
   },
   "outputs": [],
   "source": [
    "len(oak_df)"
   ]
  },
  {
   "cell_type": "markdown",
   "metadata": {
    "#student": false
   },
   "source": [
    "Let's see how those records are distributed by species."
   ]
  },
  {
   "cell_type": "code",
   "execution_count": null,
   "metadata": {
    "#student": false
   },
   "outputs": [],
   "source": [
    "# This creates a bar graph showing the distribution of species in our records\n",
    "oak_df['scientificName'].value_counts().plot.barh();"
   ]
  },
  {
   "cell_type": "markdown",
   "metadata": {
    "#student": false
   },
   "source": [
    "We can also map these like we did with the *Argia arioides* above:"
   ]
  },
  {
   "cell_type": "code",
   "execution_count": null,
   "metadata": {
    "#student": false,
    "scrolled": true
   },
   "outputs": [],
   "source": [
    "color_dict, html_key = assign_colors(oak_df, 'scientificName')\n",
    "display(HTML(html_key))"
   ]
  },
  {
   "cell_type": "code",
   "execution_count": null,
   "metadata": {
    "#student": false,
    "scrolled": true
   },
   "outputs": [],
   "source": [
    "oak_map = map_species_with_folium(oak_df, 'scientificName', child=folium.features.GeoJson(reserves))\n",
    "oak_map"
   ]
  },
  {
   "cell_type": "markdown",
   "metadata": {
    "#student": false
   },
   "source": [
    "\n",
    "<!-- BEGIN QUESTION -->\n",
    "\n",
    "<div class=\"alert alert-block alert-warning\">\n",
    "    <b>QUESTION 3:</b>\n",
    "    <br />\n",
    "    Examine the map you generated of <i>Quercus spp</i>. In some places the geographic range of each species overlaps and in other parts of California the range is non-overlapping. Discuss factors that create this patterning in the oak community. Include concepts of niche and competitive exclusion.\n",
    "</div>"
   ]
  },
  {
   "cell_type": "markdown",
   "metadata": {
    "#student": true
   },
   "source": [
    "\n",
    "YOUR RESPONSE HERE\n",
    "\n",
    "<!-- END QUESTION -->\n"
   ]
  },
  {
   "cell_type": "markdown",
   "metadata": {
    "#student": false
   },
   "source": [
    "---"
   ]
  },
  {
   "cell_type": "markdown",
   "metadata": {
    "#student": false
   },
   "source": [
    "# Part 5: Cal-Adapt  <a id='caladapt'></a>"
   ]
  },
  {
   "cell_type": "markdown",
   "metadata": {
    "#student": false
   },
   "source": [
    "Let's go back to the data from _Argia agrioides_ with the GBIF API. This will take a few seconds. The output is also really long. Remember you can click the area to the left of the cell (below the red `Out[ ]`) to expand/collapse the output."
   ]
  },
  {
   "cell_type": "code",
   "execution_count": null,
   "metadata": {
    "#student": false,
    "scrolled": false
   },
   "outputs": [],
   "source": [
    "# Get the first five records in raw text form (rather than DataFrame)\n",
    "argia_agrioides_records = get_species_records('Argia agrioides')\n",
    "argia_agrioides_records[:5] # Show the first 5 records\n",
    "# This looks different from the records from our earlier records because these are the raw records"
   ]
  },
  {
   "cell_type": "markdown",
   "metadata": {
    "#student": false
   },
   "source": [
    "Now we will use the [Cal-Adapt](http://www.cal-adapt.org/) Web API to work with time series raster data. It will request an entire time series for any geometry and return a DataFrame for each record in all of our _Argia agrioides_ records. This cell also takes a while to run (1-3 minutes)."
   ]
  },
  {
   "cell_type": "code",
   "execution_count": null,
   "metadata": {
    "#student": false
   },
   "outputs": [],
   "source": [
    "req = CalAdaptRequest()\n",
    "record_geometry = [dict(rec, geometry=sg.Point(rec['decimalLongitude'], rec['decimalLatitude']))\n",
    "             for rec in argia_agrioides_records]\n",
    "ca_df = req.concat_features(record_geometry, 'gbifID')\n",
    "ca_df.head() # Show the first five rows"
   ]
  },
  {
   "cell_type": "markdown",
   "metadata": {
    "#student": false
   },
   "source": [
    "\n",
    "<!-- BEGIN QUESTION -->\n",
    "\n",
    "<div class=\"alert alert-block alert-warning\">\n",
    "    <b>QUESTION 4:</b>\n",
    "    <br />\n",
    "    What is Cal-Adapt? What can it be used for?\n",
    "</div>"
   ]
  },
  {
   "cell_type": "markdown",
   "metadata": {
    "#student": true
   },
   "source": [
    "\n",
    "YOUR RESPONSE HERE\n",
    "\n",
    "<!-- END QUESTION -->\n"
   ]
  },
  {
   "cell_type": "markdown",
   "metadata": {
    "#student": false
   },
   "source": [
    "<!-- END QUESTION -->\n",
    "This looks like the time series data we want for each record (the unique ID numbers as the columns). Each record has the projected temperature in Fahrenheit for 170 years (every row!). We can plot predictions for few random records:"
   ]
  },
  {
   "cell_type": "code",
   "execution_count": null,
   "metadata": {
    "#student": false
   },
   "outputs": [],
   "source": [
    "# Make a line plot using the first 9 columns of df.\n",
    "ca_df.iloc[:,:9].plot();\n",
    "\n",
    "# Use matplotlib to title your plot.\n",
    "plt.title('Argia agrioides - %s' % req.slug)\n",
    "\n",
    "# Use matplotlib to add labels to the x and y axes of your plot.\n",
    "plt.xlabel('Year', fontsize=18)\n",
    "plt.ylabel('Degrees (Fahrenheit)', fontsize=16);"
   ]
  },
  {
   "cell_type": "markdown",
   "metadata": {
    "#student": false
   },
   "source": [
    "It looks like temperature is increasing across the board wherever these observations are occuring. We can calculate the average temperature for each year across observations in California:"
   ]
  },
  {
   "cell_type": "code",
   "execution_count": null,
   "metadata": {
    "#student": false
   },
   "outputs": [],
   "source": [
    "tmax_means = ca_df.mean(axis=1)\n",
    "# This is just some Pandas code to make the data prettier\n",
    "pd.DataFrame(tmax_means).reset_index().rename(columns={'event':'Year', 0:'Avg Projected Temp'})"
   ]
  },
  {
   "cell_type": "markdown",
   "metadata": {
    "#student": false
   },
   "source": [
    "What's happening to the average temperature that *Argia agrioides* is going to experience in the coming years across California?"
   ]
  },
  {
   "cell_type": "code",
   "execution_count": null,
   "metadata": {
    "#student": false
   },
   "outputs": [],
   "source": [
    "tmax_means.plot();"
   ]
  },
  {
   "cell_type": "markdown",
   "metadata": {
    "#student": false
   },
   "source": [
    "\n",
    "<!-- BEGIN QUESTION -->\n",
    "\n",
    "<div class=\"alert alert-block alert-warning\">\n",
    "    <b>QUESTION 5:</b>\n",
    "    <br />\n",
    "    Is there a temperature at which the <i>Argia agrioides</i> cannot survive? Is there one in which they particularly thrive?\n",
    "</div>"
   ]
  },
  {
   "cell_type": "markdown",
   "metadata": {
    "#student": true
   },
   "source": [
    "\n",
    "YOUR RESPONSE HERE\n",
    "\n",
    "<!-- END QUESTION -->"
   ]
  },
  {
   "cell_type": "markdown",
   "metadata": {
    "#student": false
   },
   "source": [
    "\n",
    "<!-- BEGIN QUESTION -->\n",
    "\n",
    "<div class=\"alert alert-block alert-warning\">\n",
    "    <b>QUESTION 6:</b>\n",
    "    <br />\n",
    "    What does this tell you about Santa Cruz Island? As time goes on and the temperature increases, might Santa Cruz Island serve as a refuge for <i>Argia agrioides</i>?\n",
    "</div>"
   ]
  },
  {
   "cell_type": "markdown",
   "metadata": {
    "#student": true
   },
   "source": [
    "\n",
    "YOUR RESPONSE HERE\n",
    "\n",
    "<!-- END QUESTION -->"
   ]
  },
  {
   "cell_type": "markdown",
   "metadata": {
    "#student": false
   },
   "source": [
    "---"
   ]
  },
  {
   "cell_type": "markdown",
   "metadata": {
    "#student": false
   },
   "source": [
    "**Make sure that you've answered questions 1-5. Also make sure you've done all 3 exercises.**"
   ]
  },
  {
   "cell_type": "code",
   "execution_count": null,
   "metadata": {},
   "outputs": [],
   "source": [
    "#right click on the link and open in new tab\n",
    "from IPython.display import display, HTML\n",
    "export_notebook(\"notebook2.ipynb\", filtering = True, pagebreaks = False)\n",
    "display(HTML(\"Download your PDF <a href='notebook2.pdf' download>here</a>.\"))"
   ]
  },
  {
   "cell_type": "markdown",
   "metadata": {
    "#student": false
   },
   "source": [
    "You are finished with this notebook! Please run the above cell to generate a download link for your submission file.\n",
    "\n",
    "If the download link does not work, open a new tab and go to https://datahub.berkeley.edu, click the box next to `notebook2_submission.pdf`, then click the \"Download\" link below the menu bar."
   ]
  },
  {
   "cell_type": "markdown",
   "metadata": {
    "#student": false
   },
   "source": [
    "**Check the PDF before submitting and make sure all of your answers & code changes are shown.**"
   ]
  },
  {
   "cell_type": "markdown",
   "metadata": {
    "#student": false
   },
   "source": [
    "---\n",
    "\n",
    "Notebook developed by: Michelle Koo, Nina Pak, Natalie Graham, Monica Wilkinson, Andy Sheu, Harry Li\n",
    "\n",
    "[Data Science Modules](http://data.berkeley.edu/education/modules)"
   ]
  }
 ],
 "metadata": {
  "anaconda-cloud": {},
  "checksums": [
   "de84893d0056c8b7fabf38eec89a8e2b",
   "66c6baa2ef03afc0a2e6da64ef95e1ff",
   "b6b3373793e30e8ba06f21fb6501d867",
   "b076d3cb587e32bad5a3a39475bef0de",
   "b401d3ea23595d13295873bed2a70b7c",
   "1f17f20821f0f0903c3882ea874ee79c",
   "b13c9fb1513bc978be7460c6a5fe06bc",
   "0124eec9b7fe4999271c243a23f50350",
   "423971a884ef9b4dd9a74a47ec1ef63b",
   "efcf93e5236dfa283c086b7aa9431c4f",
   "0f9fb7f1d59ab440dfb2110d02b0d8b4",
   "6b09e903fb132eeb4f3ee90e917af912",
   "7c61fe201b549a73c1de99c888c41f5c",
   "9efc314b65237d5d646e1b817372afc6",
   "774ccd28601ceede28a9da776a1858ec",
   "bf663d83d976949a726630851e14b79a",
   "857376666163241ad20f110be2ed83b4",
   "de643d0b025146726923f8285844edef",
   "f83a24f771ec63ebef351b2ef38f802b",
   "e81d9b7cd73064ee9bedccb805a00fab",
   "757d79552bb468da41c550314bb48b94",
   "e8027b071ab1b1fddb1da88b2cdce68d",
   "174645ba399b848a641307cf8111c1f2",
   "7e143f2acc9b8c9b1b49d9c95cf68558",
   "9efc314b65237d5d646e1b817372afc6",
   "6b00c271df544611c1f344fd2d3295bb",
   "b8bea47495544f351fe24b6808f9ed85",
   "0827307fa7398b351d55a85de12743a0",
   "ba970b629914601d94c1761a0f892449",
   "9a43a529deba1e3a429947a28afae8aa",
   "145f2b8f6d0081337e2f25f898334713",
   "148c91f4c7815963eb9fc61e30103b27",
   "102fa63477f3b19ce552afd7650227c4",
   "f1ddb2a419e769195176f0166a530ba9",
   "da950c72dccb261e7b24e5a8e13d04db",
   "8cc91fe81f4e9ec93995a06ec59975e2",
   "9efc314b65237d5d646e1b817372afc6",
   "ec04e26ec0a4ced9091de2d01a9be32a",
   "53faf483f67e25e18a32475a3a527a56",
   "598e1a025ae694b69ee5ec58c6ff43f7",
   "888310fd319888a7828036a6884869a8",
   "d6986bb635b1212a94b2db6da48a19da",
   "0fee9e22983f4981822c63f087736944",
   "7cc6b5b15b3cced802b963752c0652af",
   "197431d3955fc93877dbb9cc45894a73",
   "1f9667bce96479f522564f78895ccd69",
   "68458678627592c77599959d7d2ab0ea",
   "8cc91fe81f4e9ec93995a06ec59975e2",
   "9efc314b65237d5d646e1b817372afc6",
   "84156a57b63c5d14c6b082abb6c2a8bc",
   "34a4a7976106dcb632e6152bd5b413fb",
   "66d2ff5233cfbe0bc6530e8219e29d08",
   "b05b4f21c8ff37ba3b6307a162fd095a",
   "3b3ac48f4250836991e54525ed90e57a",
   "1012681ed59b13620b04a075cf18b6ed",
   "9efc314b65237d5d646e1b817372afc6",
   "7857988532b8e0e588b39e0424a12335",
   "9d3dad15e294889910338bd2ffec91e9",
   "5d1d5ef2f0a472244f0df53e5ff5ec9d",
   "be587f5114f39633409b171fda0fb319",
   "69845fd31d6157b348289d64605c157c",
   "a001afa1a103b1d1abcec663fdfa5cc6",
   "6ed38a898a63100b67fc7324f8fc6475",
   "666f7b35087f2807a432936983c516ab",
   "98c4fed65ea393fddde8c9adeefed04b",
   "a0b7ec97eb40f9aa482be2cd2140d276",
   "93215f5b9b4172f0bc1ad55fb87370a2",
   "dc95ba45e1e980df966b885a4a456718",
   "40be6a843baf867d90744f2c030d1fb2",
   "f2fac3c41518543a50af252834482b37",
   "8cc91fe81f4e9ec93995a06ec59975e2",
   "9efc314b65237d5d646e1b817372afc6",
   "5d39f310079729e502d404b88ce9b7ed",
   "bc404a0827d6ff1d4860785db684c5f5",
   "93cb58218dd193854c278e815a02ef7e",
   "072834927f075b2b4afb8c7150e78d24",
   "d242f689c99548cca3e3f64191595d62",
   "45d2e91e9ba091feb983cdff482756bd",
   "8cc91fe81f4e9ec93995a06ec59975e2",
   "174d6b84f5ea7ccd84cc5821c00de2a3",
   "49b957912ac75e8518f0989fe2890189",
   "793d8bfbabac0baea1a1fb49727fcb3a",
   "71437bf7c3c1637d072c3f54cf09d384",
   "293a810e8959b581861bf05cea5e04c8",
   "ac0c2757088cc0ef2d77951d16ce44d4",
   "1c6b93cd4fa27a84c4363ff47dc25553",
   "8cc91fe81f4e9ec93995a06ec59975e2",
   "0c431a8e02b363564402403e9a488b87",
   "8cc91fe81f4e9ec93995a06ec59975e2",
   "9efc314b65237d5d646e1b817372afc6",
   "eda9d464b8a526d309ed5ce4bbaed665",
   "417b98995bd25e98ad9a20677e8d69e8",
   "15687cff101901daafb36fa994dcada5",
   "aae7d1e52e74a4a552c647daa42bab20",
   "1a0884e98e322e85a9863d83c6687ba8",
   "d41d8cd98f00b204e9800998ecf8427e"
  ],
  "kernelspec": {
   "display_name": "Python 3",
   "language": "python",
   "name": "python3"
  },
  "language_info": {
   "codemirror_mode": {
    "name": "ipython",
    "version": 3
   },
   "file_extension": ".py",
   "mimetype": "text/x-python",
   "name": "python",
   "nbconvert_exporter": "python",
   "pygments_lexer": "ipython3",
   "version": "3.8.6"
  },
  "number_of_pagebreaks": 0
 },
 "nbformat": 4,
 "nbformat_minor": 1
}
