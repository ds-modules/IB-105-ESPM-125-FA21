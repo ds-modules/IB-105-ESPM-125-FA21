{
 "cells": [
  {
   "cell_type": "code",
   "execution_count": null,
   "metadata": {},
   "outputs": [],
   "source": [
    "# DELETE THIS CELL IN THE STUDENT NOTEBOOK\n",
    "# Create the student notebook\n",
    "!pip install gsexport -q\n",
    "import gsExport\n",
    "!jupyter nbconvert notebook1_instructor.ipynb --NotebookExporter.preprocessors=\"['gsExport.gsExportPreprocessor']\" --to notebook"
   ]
  },
  {
   "cell_type": "markdown",
   "metadata": {},
   "source": [
    "# Biogeography Notebook 1\n",
    "\n",
    "The goal of this notebook is to access and integrate diverse data sets to visualize correlations and discover patterns to address questions of species’ responses to environmental change. We will use programmatic tools to show how to use Berkeley resources such as the biodiversity data from biocollections and online databases, field stations, climate models, and other environmental data. If you have any questions getting the Jupyter notebook to run, try dropping into [data peer consulting](https://data.berkeley.edu/education/data-peer-consulting).\n",
    "\n",
    "Before we begin analyzing and visualizing biodiversity data, this introductory notebook will help familiarize you with the basics of programming in Python.\n",
    "\n",
    "## Table of Contents\n",
    "\n",
    "0 - [Jupyter Notebooks](#jupyter)\n",
    "    \n",
    "1 - [Python Basics](#python)\n",
    "\n",
    "2 - [GBIF API](#gbif)\n"
   ]
  },
  {
   "cell_type": "markdown",
   "metadata": {},
   "source": [
    "# Part 0: Our Computing Environment, Jupyter notebooks  <a id='jupyter'></a>\n",
    "This webpage is called a Jupyter notebook. A notebook is a place to write programs and view their results. \n",
    "\n",
    "### Text cells\n",
    "In a notebook, each rectangle containing text or code is called a *cell*.\n",
    "\n",
    "Text cells (like this one) can be edited by double-clicking on them. They're written in a simple format called [Markdown](http://daringfireball.net/projects/markdown/syntax) to add formatting and section headings.  You don't need to learn Markdown, but you might want to.\n",
    "\n",
    "After you edit a text cell, click the \"run cell\" button at the top that looks like ▶| to confirm any changes. You can also hold `shift` and then press `enter` or `return`. (Try not to delete the instructions of the lab.)"
   ]
  },
  {
   "cell_type": "markdown",
   "metadata": {},
   "source": [
    "### Code cells\n",
    "Other cells contain code in the Python 3 language. Running a code cell will execute all of the code it contains.\n",
    "\n",
    "To run the code in a code cell, first click on that cell to activate it.  It'll be highlighted with a little green or blue rectangle.  Next, either press ▶| or hold down the `shift` key and press `return` or `enter`.\n",
    "\n",
    "Try running this cell:"
   ]
  },
  {
   "cell_type": "code",
   "execution_count": 1,
   "metadata": {},
   "outputs": [
    {
     "name": "stdout",
     "output_type": "stream",
     "text": [
      "Hello, World!\n"
     ]
    }
   ],
   "source": [
    "print(\"Hello, World!\")"
   ]
  },
  {
   "cell_type": "markdown",
   "metadata": {},
   "source": [
    "And this one:"
   ]
  },
  {
   "cell_type": "code",
   "execution_count": 2,
   "metadata": {},
   "outputs": [
    {
     "name": "stdout",
     "output_type": "stream",
     "text": [
      "👋, 🌏!\n"
     ]
    }
   ],
   "source": [
    "print(\"\\N{WAVING HAND SIGN}, \\N{EARTH GLOBE ASIA-AUSTRALIA}!\")"
   ]
  },
  {
   "cell_type": "markdown",
   "metadata": {},
   "source": [
    "## Help\n",
    "If you need help with how to use a Jupyter notebook you can go to the Help menu. There are also more handy keyboard shortcuts found there as well!"
   ]
  },
  {
   "cell_type": "markdown",
   "metadata": {},
   "source": [
    "In order to finish the setup for this notebook, **run the following cell**:"
   ]
  },
  {
   "cell_type": "code",
   "execution_count": 28,
   "metadata": {},
   "outputs": [],
   "source": [
    "import matplotlib.pyplot as plt\n",
    "import numpy as np\n",
    "import pandas as pd\n",
    "from scripts.espm_module import *\n",
    "import json\n",
    "from pandas import json_normalize\n",
    "from IPython.core.display import display, HTML\n",
    "plt.style.use('seaborn')\n",
    "%matplotlib inline"
   ]
  },
  {
   "cell_type": "markdown",
   "metadata": {},
   "source": [
    "# Part 1: Python basics <a id='python'></a>\n",
    "Before getting into the more high level analyses we will do on the GBIF and Cal-Adapt data, we need to cover a few of the foundational elements of programming in Python.\n",
    "\n",
    "#### A. Expressions\n",
    "The departure point for all programming is the concept of the __expression__. An expression is a combination of variables, operators, and other Python elements that the language interprets and acts upon. Expressions act as a set of instructions to be fed through the interpreter, with the goal of generating specific outcomes. See below for some examples of basic expressions. Keep in mind that most of these just map to your understanding of mathematical expressions:"
   ]
  },
  {
   "cell_type": "code",
   "execution_count": 4,
   "metadata": {},
   "outputs": [
    {
     "data": {
      "text/plain": [
       "10"
      ]
     },
     "execution_count": 4,
     "metadata": {},
     "output_type": "execute_result"
    }
   ],
   "source": [
    "2 + 2\n",
    "\n",
    "'me' + ' and I'\n",
    "\n",
    "12 ** 2\n",
    "\n",
    "6 + 4"
   ]
  },
  {
   "cell_type": "markdown",
   "metadata": {},
   "source": [
    "You will notice that only the last line in a cell gets printed out. If you want to see the values of previous expressions, you need to call the `print` function on that expression. Functions use parenthesis around their parameters, just like in math!"
   ]
  },
  {
   "cell_type": "code",
   "execution_count": 5,
   "metadata": {},
   "outputs": [
    {
     "name": "stdout",
     "output_type": "stream",
     "text": [
      "4\n",
      "you and I\n",
      "144\n",
      "10\n"
     ]
    }
   ],
   "source": [
    "print(2 + 2)\n",
    "\n",
    "print('you' + ' and I')\n",
    "\n",
    "print(12 ** 2)\n",
    "\n",
    "print(6 + 4)"
   ]
  },
  {
   "cell_type": "markdown",
   "metadata": {},
   "source": [
    "#### B. Variables\n",
    "In the example below, `a` and `b` are Python objects known as __variables__. We are giving an object (in this case, an `integer` and a `float`, two Python data types) a name that we can store for later use. To use that value, we can simply type the name that we stored the value as. Variables are stored within the notebook's environment, meaning stored variable values carry over from cell to cell."
   ]
  },
  {
   "cell_type": "code",
   "execution_count": 6,
   "metadata": {},
   "outputs": [],
   "source": [
    "a = 4\n",
    "b = 10/5"
   ]
  },
  {
   "cell_type": "markdown",
   "metadata": {},
   "source": [
    "Notice that when you create a variable, unlike what you previously saw with the expressions, it does not print anything out.\n",
    "\n",
    "We can continue to perform mathematical operations on these variables, which are now placeholders for what we've assigned:"
   ]
  },
  {
   "cell_type": "code",
   "execution_count": 7,
   "metadata": {},
   "outputs": [
    {
     "name": "stdout",
     "output_type": "stream",
     "text": [
      "6.0\n"
     ]
    }
   ],
   "source": [
    "print(a + b)"
   ]
  },
  {
   "cell_type": "markdown",
   "metadata": {},
   "source": [
    "#### C. Lists\n",
    "The following few cells will introduce the concept of __lists__.\n",
    "\n",
    "A list is an ordered collection of objects. They allow us to store and access groups of variables and other objects for easy access and analysis. Check out this [documentation](https://www.tutorialspoint.com/python/python_lists.htm) for an in-depth look at the capabilities of lists.\n",
    "\n",
    "To initialize a list, you use brackets. Putting objects separated by commas in between the brackets will add them to the list. \n",
    "\n",
    "We use `lst` as the variable name because `list` is a reserved keyword in Python (meaning it has special functionality and shouldn't be used as a variable name)."
   ]
  },
  {
   "cell_type": "code",
   "execution_count": 8,
   "metadata": {},
   "outputs": [
    {
     "name": "stdout",
     "output_type": "stream",
     "text": [
      "[]\n",
      "[1, 3, 6, 'lists', 'arefun', 4]\n"
     ]
    }
   ],
   "source": [
    "# an empty list\n",
    "lst = []\n",
    "print(lst)\n",
    "\n",
    "# reassigning our empty list to a new list\n",
    "lst = [1, 3, 6, 'lists', 'are' 'fun', 4]\n",
    "print(lst)"
   ]
  },
  {
   "cell_type": "markdown",
   "metadata": {},
   "source": [
    "\n",
    "\n",
    "\n",
    "\n",
    "To access a value in the list, put the index of the item you wish to access in brackets following the variable that stores the list. Lists in Python are zero-indexed, so the indicies for `lst` are 0, 1, 2, 3, 4, 5, and 6."
   ]
  },
  {
   "cell_type": "code",
   "execution_count": 9,
   "metadata": {},
   "outputs": [
    {
     "name": "stdout",
     "output_type": "stream",
     "text": [
      "6\n"
     ]
    }
   ],
   "source": [
    "# Elements are selected like this:\n",
    "example = lst[2]\n",
    "\n",
    "# The above line selects the 3rd element of lst (list indices are 0-offset) and sets it to a variable named example.\n",
    "print(example)"
   ]
  },
  {
   "cell_type": "markdown",
   "metadata": {},
   "source": [
    "#### D. Dictionaries\n",
    "\n",
    "Dictionaries are `key`-`value` pairs. Just like a word dictionary, you have a key that will index a specific definition."
   ]
  },
  {
   "cell_type": "code",
   "execution_count": 10,
   "metadata": {},
   "outputs": [],
   "source": [
    "my_dict = {'python': 'a large heavy-bodied nonvenomous constrictor snake occurring throughout the Old World tropics.'}"
   ]
  },
  {
   "cell_type": "markdown",
   "metadata": {},
   "source": [
    "We can get a `value` back out by indexing the `key`:"
   ]
  },
  {
   "cell_type": "code",
   "execution_count": 11,
   "metadata": {},
   "outputs": [
    {
     "data": {
      "text/plain": [
       "'a large heavy-bodied nonvenomous constrictor snake occurring throughout the Old World tropics.'"
      ]
     },
     "execution_count": 11,
     "metadata": {},
     "output_type": "execute_result"
    }
   ],
   "source": [
    "my_dict['python']"
   ]
  },
  {
   "cell_type": "markdown",
   "metadata": {},
   "source": [
    "But like real dictionaries, there can be more than one definition. You can keep a `list`, or even another dictionary within a specific `key`:"
   ]
  },
  {
   "cell_type": "code",
   "execution_count": 12,
   "metadata": {},
   "outputs": [],
   "source": [
    "my_dict = {'python': ['a large heavy-bodied nonvenomous constrictor snake occurring throughout the Old World tropics.',\n",
    "                      'a high-level general-purpose programming language.']}"
   ]
  },
  {
   "cell_type": "markdown",
   "metadata": {},
   "source": [
    "We can index the `list` after the `key`:"
   ]
  },
  {
   "cell_type": "code",
   "execution_count": 13,
   "metadata": {},
   "outputs": [
    {
     "data": {
      "text/plain": [
       "'a large heavy-bodied nonvenomous constrictor snake occurring throughout the Old World tropics.'"
      ]
     },
     "execution_count": 13,
     "metadata": {},
     "output_type": "execute_result"
    }
   ],
   "source": [
    "my_dict['python'][0]"
   ]
  },
  {
   "cell_type": "code",
   "execution_count": 14,
   "metadata": {},
   "outputs": [
    {
     "data": {
      "text/plain": [
       "'a high-level general-purpose programming language.'"
      ]
     },
     "execution_count": 14,
     "metadata": {},
     "output_type": "execute_result"
    }
   ],
   "source": [
    "my_dict['python'][1]"
   ]
  },
  {
   "cell_type": "markdown",
   "metadata": {},
   "source": [
    "**E: Functions**"
   ]
  },
  {
   "cell_type": "markdown",
   "metadata": {},
   "source": [
    "In programming, we often reuse chunks of code. So instead of copy/pasting it and repeating the same code over and over again, we have something called a function, which gives a name to a block of code. This allows us to just call the function instead of rewriting code we used before.\n",
    "\n",
    "For example, this is a function that squares an input."
   ]
  },
  {
   "cell_type": "code",
   "execution_count": 15,
   "metadata": {},
   "outputs": [],
   "source": [
    "# This code creates a function named square\n",
    "def square(n):\n",
    "    return n * n"
   ]
  },
  {
   "cell_type": "code",
   "execution_count": 16,
   "metadata": {},
   "outputs": [
    {
     "data": {
      "text/plain": [
       "25"
      ]
     },
     "execution_count": 16,
     "metadata": {},
     "output_type": "execute_result"
    }
   ],
   "source": [
    "# Let's find the square of 5\n",
    "square(5)"
   ]
  },
  {
   "cell_type": "code",
   "execution_count": 17,
   "metadata": {},
   "outputs": [
    {
     "data": {
      "text/plain": [
       "9"
      ]
     },
     "execution_count": 17,
     "metadata": {},
     "output_type": "execute_result"
    }
   ],
   "source": [
    "# Let's try it with -3\n",
    "square(-3)"
   ]
  },
  {
   "cell_type": "markdown",
   "metadata": {},
   "source": [
    "Our use of functions later in the notebook is more complex than this example. We will use them in order to reduce the amount of code in this notebook. For now, you can just ignore the details and structure of how functions work. Just remember that a **function** is a shortcut to easily re-run old code and that the `def` keyword means we are creating a function."
   ]
  },
  {
   "cell_type": "markdown",
   "metadata": {},
   "source": [
    "---\n",
    "\n",
    "# Part 2: GBIF API<a id='gbif'></a>\n",
    "\n",
    "Click on the [link](http://www.gbif.org/) to the GBIF website to discover what GBIF can do!"
   ]
  },
  {
   "cell_type": "markdown",
   "metadata": {},
   "source": [
    "#student\n",
    "<div class=\"alert alert-block alert-warning\">\n",
    "    <b>QUESTION 1:</b>\n",
    "    <br />\n",
    "    What does GBIF stand for and who is it coordinated by?\n",
    "</div>"
   ]
  },
  {
   "cell_type": "markdown",
   "metadata": {},
   "source": [
    "#student\n",
    "\n",
    "YOUR RESPONSE HERE -- **Double click on this box and type in your answer! Then hit run.**"
   ]
  },
  {
   "cell_type": "markdown",
   "metadata": {},
   "source": [
    "GBIF has created an API that we can use to get data about different species at the [GBIF Web API](http://www.gbif.org/developer/summary).\n",
    "\n",
    "You can think of a Web API call as a fancy URL. What do you think the end of this URL means?\n",
    "\n",
    "http://api.gbif.org/v1/occurrence/search?year=1800,1899\n",
    "\n",
    "If you're guessing that it limits the search to the years 1800-1899, you're right! Go ahead and click the URL above. You should see something like this:\n",
    "\n",
    "```\n",
    "{\"offset\":0,\"limit\":20,\"endOfRecords\":false,\"count\":5711947,\"results\":[{\"key\":14339704,\"datasetKey\":\"857aa892-f762-11e1-a439-00145eb45e9a\",\"publishingOrgKey\":\"6bcc0290-6e76-11db-bcd5-b8a03c50a862\",\"publishingCountry\":\"FR\",\"protocol\":\"BIOCASE\",\"lastCrawled\":\"2013-09-07T07:06:34.000+0000\",\"crawlId\":1,\"extensions\":{},\"basisOfRecord\":\"OBSERVATION\",\"taxonKey\":2809968,\"kingdomKey\":6,\"phylumKey\":7707728,\"classKey\":196,\"orderKey\":1169,\"familyKey\":7689,\"genusKey\":2849312,\"speciesKey\":2809968,\"scientificName\":\"Orchis militaris L.\",\"kingdom\":\"Plantae\",\"phylum\":\"Tracheophyta\",\"order\":\"Asparagales\",\"family\":\"Orchidaceae\",\"genus\":\"Orchis\",\"species\":\"Orchis \n",
    "```\n",
    "\n",
    "It might look like a mess, but it's not! This is actually very structured data, and can easily be put into a table like format, though often programmers don't do this because it's just as easy to keep it as is.\n",
    "\n",
    "You might be able to pick out the curly braces `{` and think this it's a dictionary. You'd be right, except in this format we call it [JSON](https://en.wikipedia.org/wiki/JSON).\n",
    "\n",
    "---\n",
    "\n",
    "## *Argia arioides*\n",
    "\n",
    "![argia arioides](https://upload.wikimedia.org/wikipedia/commons/thumb/b/bd/Argia_agrioides-Male-1.jpg/220px-Argia_agrioides-Male-1.jpg)\n",
    "\n",
    "When performing data analysis, it is always important to define a question that you seek the answer to. *The goal of finding the answer to this question will ultimately drive the queries and analysis styles you choose to use/write.*\n",
    "\n",
    "For this example, we are going to ask: **where have [*Argia agrioides*](https://www.google.com/search?q=Argia+agrioides&rlz=1C1CHBF_enUS734US734&source=lnms&tbm=isch&sa=X&ved=0ahUKEwji9t29kNTWAhVBymMKHWJ-ANcQ_AUICygC&biw=1536&bih=694) (the California Dancer dragonfly) been documented? Are there records at any of our field stations?**\n",
    "\n",
    "The code to ask the API has already been written for us! This is often the case with programming, someone has already written the code, so we don't have to. We'll just set up the `GBIFRequest` object and assign that to the variable `req`, short for \"request\":"
   ]
  },
  {
   "cell_type": "code",
   "execution_count": 18,
   "metadata": {},
   "outputs": [],
   "source": [
    "req = GBIFRequest()  # creating a request to the API"
   ]
  },
  {
   "cell_type": "markdown",
   "metadata": {},
   "source": [
    "Great, so how do we make searches? We can use a Python `dictionary` to create our query parameters. We'll ask for the `scientificName` of the California Dancer (*Argia arioides*):"
   ]
  },
  {
   "cell_type": "code",
   "execution_count": 19,
   "metadata": {},
   "outputs": [],
   "source": [
    "params = {'scientificName': 'Argia agrioides'}  # setting our parameters (the specific species we want)"
   ]
  },
  {
   "cell_type": "markdown",
   "metadata": {},
   "source": [
    "Now that we have the parameters, we can feed this to our `req` variable to get back all the pages of data. We'll then make sure that each record has a `decimalLatitude`, otherwise we'll thow it out for now. Lastly, we'll print out the first five records:"
   ]
  },
  {
   "cell_type": "code",
   "execution_count": 29,
   "metadata": {
    "scrolled": true
   },
   "outputs": [
    {
     "data": {
      "text/plain": [
       "[{'key': 2596088009,\n",
       "  'datasetKey': '50c9509d-22c7-4a22-a47d-8c48425ef4a7',\n",
       "  'publishingOrgKey': '28eb1a3f-1c15-4a95-931a-4af90ecb574d',\n",
       "  'installationKey': '997448a8-f762-11e1-a439-00145eb45e9a',\n",
       "  'publishingCountry': 'US',\n",
       "  'protocol': 'DWC_ARCHIVE',\n",
       "  'lastCrawled': '2020-09-06T07:49:09.150+0000',\n",
       "  'lastParsed': '2020-09-06T09:40:40.376+0000',\n",
       "  'crawlId': 230,\n",
       "  'extensions': {},\n",
       "  'basisOfRecord': 'HUMAN_OBSERVATION',\n",
       "  'occurrenceStatus': 'PRESENT',\n",
       "  'taxonKey': 5051459,\n",
       "  'kingdomKey': 1,\n",
       "  'phylumKey': 54,\n",
       "  'classKey': 216,\n",
       "  'orderKey': 789,\n",
       "  'familyKey': 8577,\n",
       "  'genusKey': 1422607,\n",
       "  'speciesKey': 5051459,\n",
       "  'acceptedTaxonKey': 5051459,\n",
       "  'scientificName': 'Argia agrioides Calvert, 1895',\n",
       "  'acceptedScientificName': 'Argia agrioides Calvert, 1895',\n",
       "  'kingdom': 'Animalia',\n",
       "  'phylum': 'Arthropoda',\n",
       "  'order': 'Odonata',\n",
       "  'family': 'Coenagrionidae',\n",
       "  'genus': 'Argia',\n",
       "  'species': 'Argia agrioides',\n",
       "  'genericName': 'Argia',\n",
       "  'specificEpithet': 'agrioides',\n",
       "  'taxonRank': 'SPECIES',\n",
       "  'taxonomicStatus': 'ACCEPTED',\n",
       "  'dateIdentified': '2020-02-03T04:24:45',\n",
       "  'decimalLongitude': -111.437345,\n",
       "  'decimalLatitude': 25.986125,\n",
       "  'stateProvince': 'Baja California Sur',\n",
       "  'year': 2020,\n",
       "  'month': 1,\n",
       "  'day': 14,\n",
       "  'eventDate': '2020-01-14T13:38:00',\n",
       "  'issues': ['COORDINATE_ROUNDED', 'GEODETIC_DATUM_ASSUMED_WGS84'],\n",
       "  'modified': '2020-04-04T22:49:18.000+0000',\n",
       "  'lastInterpreted': '2020-09-06T09:40:40.376+0000',\n",
       "  'references': 'https://www.inaturalist.org/observations/38246899',\n",
       "  'license': 'http://creativecommons.org/licenses/by-nc/4.0/legalcode',\n",
       "  'identifiers': [],\n",
       "  'media': [{'type': 'StillImage',\n",
       "    'format': 'image/jpeg',\n",
       "    'references': 'https://www.inaturalist.org/photos/60760714',\n",
       "    'created': '2020-01-14T13:38:52.000+0000',\n",
       "    'creator': 'Liz Osborn',\n",
       "    'publisher': 'iNaturalist',\n",
       "    'license': 'http://creativecommons.org/licenses/by-nc/4.0/',\n",
       "    'rightsHolder': 'Liz Osborn',\n",
       "    'identifier': 'https://static.inaturalist.org/photos/60760714/original.jpg?1580703795'}],\n",
       "  'facts': [],\n",
       "  'relations': [],\n",
       "  'gadm': {'level0': {'gid': 'MEX', 'name': 'Mexico'},\n",
       "   'level1': {'gid': 'MEX.2_1', 'name': 'Baja California Sur'},\n",
       "   'level2': {'gid': 'MEX.2.1_1', 'name': 'Comondú'}},\n",
       "  'geodeticDatum': 'WGS84',\n",
       "  'class': 'Insecta',\n",
       "  'countryCode': 'MX',\n",
       "  'recordedByIDs': [],\n",
       "  'identifiedByIDs': [],\n",
       "  'country': 'Mexico',\n",
       "  'rightsHolder': 'Liz Osborn',\n",
       "  'identifier': '38246899',\n",
       "  'http://unknown.org/nick': 'lizosborn',\n",
       "  'verbatimEventDate': '2020/01/14 1:38 PM PST',\n",
       "  'datasetName': 'iNaturalist research-grade observations',\n",
       "  'collectionCode': 'Observations',\n",
       "  'gbifID': '2596088009',\n",
       "  'verbatimLocality': 'Loreto Municipality, Baja California Sur, Mexico',\n",
       "  'occurrenceID': 'https://www.inaturalist.org/observations/38246899',\n",
       "  'taxonID': '51220',\n",
       "  'catalogNumber': '38246899',\n",
       "  'recordedBy': 'Liz Osborn',\n",
       "  'http://unknown.org/occurrenceDetails': 'https://www.inaturalist.org/observations/38246899',\n",
       "  'institutionCode': 'iNaturalist',\n",
       "  'rights': '© Liz Osborn some rights reserved',\n",
       "  'eventTime': '21:38:00Z',\n",
       "  'identifiedBy': 'Liz Osborn',\n",
       "  'identificationID': '85772083'},\n",
       " {'key': 2597716824,\n",
       "  'datasetKey': '50c9509d-22c7-4a22-a47d-8c48425ef4a7',\n",
       "  'publishingOrgKey': '28eb1a3f-1c15-4a95-931a-4af90ecb574d',\n",
       "  'installationKey': '997448a8-f762-11e1-a439-00145eb45e9a',\n",
       "  'publishingCountry': 'US',\n",
       "  'protocol': 'DWC_ARCHIVE',\n",
       "  'lastCrawled': '2020-09-06T07:49:09.150+0000',\n",
       "  'lastParsed': '2020-09-06T09:57:19.078+0000',\n",
       "  'crawlId': 230,\n",
       "  'extensions': {},\n",
       "  'basisOfRecord': 'HUMAN_OBSERVATION',\n",
       "  'occurrenceStatus': 'PRESENT',\n",
       "  'taxonKey': 5051459,\n",
       "  'kingdomKey': 1,\n",
       "  'phylumKey': 54,\n",
       "  'classKey': 216,\n",
       "  'orderKey': 789,\n",
       "  'familyKey': 8577,\n",
       "  'genusKey': 1422607,\n",
       "  'speciesKey': 5051459,\n",
       "  'acceptedTaxonKey': 5051459,\n",
       "  'scientificName': 'Argia agrioides Calvert, 1895',\n",
       "  'acceptedScientificName': 'Argia agrioides Calvert, 1895',\n",
       "  'kingdom': 'Animalia',\n",
       "  'phylum': 'Arthropoda',\n",
       "  'order': 'Odonata',\n",
       "  'family': 'Coenagrionidae',\n",
       "  'genus': 'Argia',\n",
       "  'species': 'Argia agrioides',\n",
       "  'genericName': 'Argia',\n",
       "  'specificEpithet': 'agrioides',\n",
       "  'taxonRank': 'SPECIES',\n",
       "  'taxonomicStatus': 'ACCEPTED',\n",
       "  'dateIdentified': '2020-02-10T02:11:38',\n",
       "  'decimalLongitude': -109.80759,\n",
       "  'decimalLatitude': 23.472017,\n",
       "  'coordinateUncertaintyInMeters': 500.0,\n",
       "  'stateProvince': 'Baja California Sur',\n",
       "  'year': 2020,\n",
       "  'month': 1,\n",
       "  'day': 23,\n",
       "  'eventDate': '2020-01-23T15:16:00',\n",
       "  'issues': ['COORDINATE_ROUNDED', 'GEODETIC_DATUM_ASSUMED_WGS84'],\n",
       "  'modified': '2020-04-05T19:08:17.000+0000',\n",
       "  'lastInterpreted': '2020-09-06T09:57:19.078+0000',\n",
       "  'references': 'https://www.inaturalist.org/observations/38490810',\n",
       "  'license': 'http://creativecommons.org/licenses/by-nc/4.0/legalcode',\n",
       "  'identifiers': [],\n",
       "  'media': [{'type': 'StillImage',\n",
       "    'format': 'image/jpeg',\n",
       "    'references': 'https://www.inaturalist.org/photos/61181292',\n",
       "    'created': '2020-01-23T15:16:06.000+0000',\n",
       "    'creator': 'Steven Mlodinow',\n",
       "    'publisher': 'iNaturalist',\n",
       "    'license': 'http://creativecommons.org/licenses/by-nc/4.0/',\n",
       "    'rightsHolder': 'Steven Mlodinow',\n",
       "    'identifier': 'https://static.inaturalist.org/photos/61181292/original.jpg?1581300619'}],\n",
       "  'facts': [],\n",
       "  'relations': [],\n",
       "  'gadm': {'level0': {'gid': 'MEX', 'name': 'Mexico'},\n",
       "   'level1': {'gid': 'MEX.2_1', 'name': 'Baja California Sur'},\n",
       "   'level2': {'gid': 'MEX.2.2_1', 'name': 'La Paz'}},\n",
       "  'geodeticDatum': 'WGS84',\n",
       "  'class': 'Insecta',\n",
       "  'countryCode': 'MX',\n",
       "  'recordedByIDs': [],\n",
       "  'identifiedByIDs': [],\n",
       "  'country': 'Mexico',\n",
       "  'rightsHolder': 'Steven Mlodinow',\n",
       "  'identifier': '38490810',\n",
       "  'http://unknown.org/nick': 'mlodinow',\n",
       "  'verbatimEventDate': '2020/01/23 3:16 PM MST',\n",
       "  'datasetName': 'iNaturalist research-grade observations',\n",
       "  'collectionCode': 'Observations',\n",
       "  'gbifID': '2597716824',\n",
       "  'verbatimLocality': 'Agua Termales Santa Rita, Baja California Sur, Mexico',\n",
       "  'occurrenceID': 'https://www.inaturalist.org/observations/38490810',\n",
       "  'taxonID': '51220',\n",
       "  'catalogNumber': '38490810',\n",
       "  'recordedBy': 'Steven Mlodinow',\n",
       "  'http://unknown.org/occurrenceDetails': 'https://www.inaturalist.org/observations/38490810',\n",
       "  'institutionCode': 'iNaturalist',\n",
       "  'rights': '© Steven Mlodinow some rights reserved',\n",
       "  'eventTime': '22:16:00Z',\n",
       "  'identifiedBy': 'Steven Mlodinow',\n",
       "  'identificationID': '86505859'},\n",
       " {'key': 2597853826,\n",
       "  'datasetKey': '50c9509d-22c7-4a22-a47d-8c48425ef4a7',\n",
       "  'publishingOrgKey': '28eb1a3f-1c15-4a95-931a-4af90ecb574d',\n",
       "  'installationKey': '997448a8-f762-11e1-a439-00145eb45e9a',\n",
       "  'publishingCountry': 'US',\n",
       "  'protocol': 'DWC_ARCHIVE',\n",
       "  'lastCrawled': '2020-09-06T07:49:09.150+0000',\n",
       "  'lastParsed': '2020-09-06T09:58:13.098+0000',\n",
       "  'crawlId': 230,\n",
       "  'extensions': {},\n",
       "  'basisOfRecord': 'HUMAN_OBSERVATION',\n",
       "  'occurrenceStatus': 'PRESENT',\n",
       "  'taxonKey': 5051459,\n",
       "  'kingdomKey': 1,\n",
       "  'phylumKey': 54,\n",
       "  'classKey': 216,\n",
       "  'orderKey': 789,\n",
       "  'familyKey': 8577,\n",
       "  'genusKey': 1422607,\n",
       "  'speciesKey': 5051459,\n",
       "  'acceptedTaxonKey': 5051459,\n",
       "  'scientificName': 'Argia agrioides Calvert, 1895',\n",
       "  'acceptedScientificName': 'Argia agrioides Calvert, 1895',\n",
       "  'kingdom': 'Animalia',\n",
       "  'phylum': 'Arthropoda',\n",
       "  'order': 'Odonata',\n",
       "  'family': 'Coenagrionidae',\n",
       "  'genus': 'Argia',\n",
       "  'species': 'Argia agrioides',\n",
       "  'genericName': 'Argia',\n",
       "  'specificEpithet': 'agrioides',\n",
       "  'taxonRank': 'SPECIES',\n",
       "  'taxonomicStatus': 'ACCEPTED',\n",
       "  'dateIdentified': '2020-02-10T22:19:56',\n",
       "  'decimalLongitude': -109.797444,\n",
       "  'decimalLatitude': 23.36911,\n",
       "  'coordinateUncertaintyInMeters': 1204.0,\n",
       "  'stateProvince': 'Baja California Sur',\n",
       "  'year': 2020,\n",
       "  'month': 1,\n",
       "  'day': 21,\n",
       "  'eventDate': '2020-01-21T14:28:00',\n",
       "  'issues': ['COORDINATE_ROUNDED', 'GEODETIC_DATUM_ASSUMED_WGS84'],\n",
       "  'modified': '2020-04-05T18:57:13.000+0000',\n",
       "  'lastInterpreted': '2020-09-06T09:58:13.098+0000',\n",
       "  'references': 'https://www.inaturalist.org/observations/38518464',\n",
       "  'license': 'http://creativecommons.org/licenses/by-nc/4.0/legalcode',\n",
       "  'identifiers': [],\n",
       "  'media': [{'type': 'StillImage',\n",
       "    'format': 'image/jpeg',\n",
       "    'references': 'https://www.inaturalist.org/photos/61228924',\n",
       "    'created': '2020-01-21T14:28:51.000+0000',\n",
       "    'creator': 'Steven Mlodinow',\n",
       "    'publisher': 'iNaturalist',\n",
       "    'license': 'http://creativecommons.org/licenses/by-nc/4.0/',\n",
       "    'rightsHolder': 'Steven Mlodinow',\n",
       "    'identifier': 'https://static.inaturalist.org/photos/61228924/original.jpg?1581373104'}],\n",
       "  'facts': [],\n",
       "  'relations': [],\n",
       "  'gadm': {'level0': {'gid': 'MEX', 'name': 'Mexico'},\n",
       "   'level1': {'gid': 'MEX.2_1', 'name': 'Baja California Sur'},\n",
       "   'level2': {'gid': 'MEX.2.2_1', 'name': 'La Paz'}},\n",
       "  'geodeticDatum': 'WGS84',\n",
       "  'class': 'Insecta',\n",
       "  'countryCode': 'MX',\n",
       "  'recordedByIDs': [],\n",
       "  'identifiedByIDs': [],\n",
       "  'country': 'Mexico',\n",
       "  'rightsHolder': 'Steven Mlodinow',\n",
       "  'identifier': '38518464',\n",
       "  'http://unknown.org/nick': 'mlodinow',\n",
       "  'verbatimEventDate': '2020/01/21 2:28 PM MST',\n",
       "  'datasetName': 'iNaturalist research-grade observations',\n",
       "  'collectionCode': 'Observations',\n",
       "  'gbifID': '2597853826',\n",
       "  'verbatimLocality': 'Miraflores, Baja California Sur, Mexico',\n",
       "  'occurrenceID': 'https://www.inaturalist.org/observations/38518464',\n",
       "  'taxonID': '51220',\n",
       "  'catalogNumber': '38518464',\n",
       "  'recordedBy': 'Steven Mlodinow',\n",
       "  'http://unknown.org/occurrenceDetails': 'https://www.inaturalist.org/observations/38518464',\n",
       "  'institutionCode': 'iNaturalist',\n",
       "  'rights': '© Steven Mlodinow some rights reserved',\n",
       "  'eventTime': '21:28:00Z',\n",
       "  'identifiedBy': 'Steven Mlodinow',\n",
       "  'identificationID': '86594382'},\n",
       " {'key': 2574229515,\n",
       "  'datasetKey': '50c9509d-22c7-4a22-a47d-8c48425ef4a7',\n",
       "  'publishingOrgKey': '28eb1a3f-1c15-4a95-931a-4af90ecb574d',\n",
       "  'installationKey': '997448a8-f762-11e1-a439-00145eb45e9a',\n",
       "  'publishingCountry': 'US',\n",
       "  'protocol': 'DWC_ARCHIVE',\n",
       "  'lastCrawled': '2020-09-06T07:49:09.150+0000',\n",
       "  'lastParsed': '2020-09-06T09:40:21.793+0000',\n",
       "  'crawlId': 230,\n",
       "  'extensions': {},\n",
       "  'basisOfRecord': 'HUMAN_OBSERVATION',\n",
       "  'occurrenceStatus': 'PRESENT',\n",
       "  'taxonKey': 5051459,\n",
       "  'kingdomKey': 1,\n",
       "  'phylumKey': 54,\n",
       "  'classKey': 216,\n",
       "  'orderKey': 789,\n",
       "  'familyKey': 8577,\n",
       "  'genusKey': 1422607,\n",
       "  'speciesKey': 5051459,\n",
       "  'acceptedTaxonKey': 5051459,\n",
       "  'scientificName': 'Argia agrioides Calvert, 1895',\n",
       "  'acceptedScientificName': 'Argia agrioides Calvert, 1895',\n",
       "  'kingdom': 'Animalia',\n",
       "  'phylum': 'Arthropoda',\n",
       "  'order': 'Odonata',\n",
       "  'family': 'Coenagrionidae',\n",
       "  'genus': 'Argia',\n",
       "  'species': 'Argia agrioides',\n",
       "  'genericName': 'Argia',\n",
       "  'specificEpithet': 'agrioides',\n",
       "  'taxonRank': 'SPECIES',\n",
       "  'taxonomicStatus': 'ACCEPTED',\n",
       "  'dateIdentified': '2020-02-09T15:21:49',\n",
       "  'decimalLongitude': -109.808186,\n",
       "  'decimalLatitude': 23.471925,\n",
       "  'stateProvince': 'Baja California Sur',\n",
       "  'year': 2020,\n",
       "  'month': 2,\n",
       "  'day': 7,\n",
       "  'eventDate': '2020-02-07T13:05:00',\n",
       "  'issues': ['COORDINATE_ROUNDED', 'GEODETIC_DATUM_ASSUMED_WGS84'],\n",
       "  'modified': '2020-02-09T15:21:49.000+0000',\n",
       "  'lastInterpreted': '2020-09-06T09:40:21.793+0000',\n",
       "  'references': 'https://www.inaturalist.org/observations/38430395',\n",
       "  'license': 'http://creativecommons.org/licenses/by-nc/4.0/legalcode',\n",
       "  'identifiers': [],\n",
       "  'media': [],\n",
       "  'facts': [],\n",
       "  'relations': [],\n",
       "  'gadm': {'level0': {'gid': 'MEX', 'name': 'Mexico'},\n",
       "   'level1': {'gid': 'MEX.2_1', 'name': 'Baja California Sur'},\n",
       "   'level2': {'gid': 'MEX.2.2_1', 'name': 'La Paz'}},\n",
       "  'geodeticDatum': 'WGS84',\n",
       "  'class': 'Insecta',\n",
       "  'countryCode': 'MX',\n",
       "  'recordedByIDs': [],\n",
       "  'identifiedByIDs': [],\n",
       "  'country': 'Mexico',\n",
       "  'rightsHolder': 'Bill Levine',\n",
       "  'identifier': '38430395',\n",
       "  'http://unknown.org/nick': 'blevine',\n",
       "  'verbatimEventDate': '2020/02/07 1:05 PM MST',\n",
       "  'datasetName': 'iNaturalist research-grade observations',\n",
       "  'collectionCode': 'Observations',\n",
       "  'gbifID': '2574229515',\n",
       "  'verbatimLocality': 'Los Cabos, Baja California Sur, Mexico',\n",
       "  'occurrenceID': 'https://www.inaturalist.org/observations/38430395',\n",
       "  'taxonID': '51220',\n",
       "  'catalogNumber': '38430395',\n",
       "  'recordedBy': 'Bill Levine',\n",
       "  'http://unknown.org/occurrenceDetails': 'https://www.inaturalist.org/observations/38430395',\n",
       "  'institutionCode': 'iNaturalist',\n",
       "  'rights': '© Bill Levine some rights reserved',\n",
       "  'eventTime': '20:05:00Z',\n",
       "  'identifiedBy': 'Kathy Claypole Biggs',\n",
       "  'identificationID': '86442978'},\n",
       " {'key': 2596274195,\n",
       "  'datasetKey': '50c9509d-22c7-4a22-a47d-8c48425ef4a7',\n",
       "  'publishingOrgKey': '28eb1a3f-1c15-4a95-931a-4af90ecb574d',\n",
       "  'installationKey': '997448a8-f762-11e1-a439-00145eb45e9a',\n",
       "  'publishingCountry': 'US',\n",
       "  'protocol': 'DWC_ARCHIVE',\n",
       "  'lastCrawled': '2020-09-06T07:49:09.150+0000',\n",
       "  'lastParsed': '2020-09-06T09:58:23.916+0000',\n",
       "  'crawlId': 230,\n",
       "  'extensions': {},\n",
       "  'basisOfRecord': 'HUMAN_OBSERVATION',\n",
       "  'occurrenceStatus': 'PRESENT',\n",
       "  'taxonKey': 5051459,\n",
       "  'kingdomKey': 1,\n",
       "  'phylumKey': 54,\n",
       "  'classKey': 216,\n",
       "  'orderKey': 789,\n",
       "  'familyKey': 8577,\n",
       "  'genusKey': 1422607,\n",
       "  'speciesKey': 5051459,\n",
       "  'acceptedTaxonKey': 5051459,\n",
       "  'scientificName': 'Argia agrioides Calvert, 1895',\n",
       "  'acceptedScientificName': 'Argia agrioides Calvert, 1895',\n",
       "  'kingdom': 'Animalia',\n",
       "  'phylum': 'Arthropoda',\n",
       "  'order': 'Odonata',\n",
       "  'family': 'Coenagrionidae',\n",
       "  'genus': 'Argia',\n",
       "  'species': 'Argia agrioides',\n",
       "  'genericName': 'Argia',\n",
       "  'specificEpithet': 'agrioides',\n",
       "  'taxonRank': 'SPECIES',\n",
       "  'taxonomicStatus': 'ACCEPTED',\n",
       "  'dateIdentified': '2020-03-19T16:53:41',\n",
       "  'decimalLongitude': -109.691143,\n",
       "  'decimalLatitude': 23.055163,\n",
       "  'coordinateUncertaintyInMeters': 8.0,\n",
       "  'stateProvince': 'Baja California Sur',\n",
       "  'year': 2020,\n",
       "  'month': 3,\n",
       "  'day': 18,\n",
       "  'eventDate': '2020-03-18T16:29:00',\n",
       "  'issues': ['COORDINATE_ROUNDED', 'GEODETIC_DATUM_ASSUMED_WGS84'],\n",
       "  'modified': '2020-04-05T02:14:17.000+0000',\n",
       "  'lastInterpreted': '2020-09-06T09:58:23.916+0000',\n",
       "  'references': 'https://www.inaturalist.org/observations/40239905',\n",
       "  'license': 'http://creativecommons.org/licenses/by-nc/4.0/legalcode',\n",
       "  'identifiers': [],\n",
       "  'media': [{'type': 'StillImage',\n",
       "    'format': 'image/jpeg',\n",
       "    'references': 'https://www.inaturalist.org/photos/63924805',\n",
       "    'created': '2020-03-18T16:29:39.000+0000',\n",
       "    'creator': 'Giff Beaton',\n",
       "    'publisher': 'iNaturalist',\n",
       "    'license': 'http://creativecommons.org/licenses/by-nc/4.0/',\n",
       "    'rightsHolder': 'Giff Beaton',\n",
       "    'identifier': 'https://static.inaturalist.org/photos/63924805/original.jpg?1584636803'}],\n",
       "  'facts': [],\n",
       "  'relations': [],\n",
       "  'gadm': {'level0': {'gid': 'MEX', 'name': 'Mexico'},\n",
       "   'level1': {'gid': 'MEX.2_1', 'name': 'Baja California Sur'},\n",
       "   'level2': {'gid': 'MEX.2.2_1', 'name': 'La Paz'}},\n",
       "  'geodeticDatum': 'WGS84',\n",
       "  'class': 'Insecta',\n",
       "  'countryCode': 'MX',\n",
       "  'recordedByIDs': [],\n",
       "  'identifiedByIDs': [],\n",
       "  'country': 'Mexico',\n",
       "  'rightsHolder': 'Giff Beaton',\n",
       "  'identifier': '40239905',\n",
       "  'http://unknown.org/nick': 'giffbeaton',\n",
       "  'verbatimEventDate': '2020/03/18 4:29 PM EDT',\n",
       "  'datasetName': 'iNaturalist research-grade observations',\n",
       "  'collectionCode': 'Observations',\n",
       "  'gbifID': '2596274195',\n",
       "  'verbatimLocality': 'Los Cabos, Baja California Sur, Mexico',\n",
       "  'occurrenceID': 'https://www.inaturalist.org/observations/40239905',\n",
       "  'taxonID': '51220',\n",
       "  'catalogNumber': '40239905',\n",
       "  'recordedBy': 'Giff Beaton',\n",
       "  'http://unknown.org/occurrenceDetails': 'https://www.inaturalist.org/observations/40239905',\n",
       "  'institutionCode': 'iNaturalist',\n",
       "  'rights': '© Giff Beaton some rights reserved',\n",
       "  'eventTime': '20:29:00Z',\n",
       "  'identifiedBy': 'Giff Beaton',\n",
       "  'identificationID': '91042743'}]"
      ]
     },
     "execution_count": 29,
     "metadata": {},
     "output_type": "execute_result"
    }
   ],
   "source": [
    "params = {'scientificName': 'Argia agrioides'}  # setting our parameters (the specific species we want)\n",
    "pages = req.get_pages(params)  # using those parameters to complete the request\n",
    "records = [rec for page in pages for rec in page['results'] if rec.get('decimalLatitude')]  # sift out valid records\n",
    "records[:5]  # print first 5 records"
   ]
  },
  {
   "cell_type": "markdown",
   "metadata": {},
   "source": [
    "That was a lot of code for something that we will be doing multiple times. Instead of copy/pasting that code when we want to get more species records, we can just create something called a function to get the records for us. For now, think of a function as a shortcut to re-run larger chunks of code as one command. The following code cell defines a function to get a given species' records. Notice how almost all of the indented code is the same code we ran above."
   ]
  },
  {
   "cell_type": "code",
   "execution_count": 30,
   "metadata": {},
   "outputs": [],
   "source": [
    "def get_species_records(scientific_name):\n",
    "    req = GBIFRequest()  # creating a request to the API\n",
    "    params = {'scientificName': scientific_name}  # setting our parameters (the specific species we want)\n",
    "    pages = req.get_pages(params)  # using those parameters to complete the request\n",
    "    records = [rec for page in pages for rec in page['results'] if rec.get('decimalLatitude')]  # sift out valid records\n",
    "    return records"
   ]
  },
  {
   "cell_type": "markdown",
   "metadata": {},
   "source": [
    "Because we have defined a function, we can get the records of a species in just one line using \"get_species_records!\""
   ]
  },
  {
   "cell_type": "code",
   "execution_count": 31,
   "metadata": {},
   "outputs": [
    {
     "data": {
      "text/plain": [
       "[{'key': 2596088009,\n",
       "  'datasetKey': '50c9509d-22c7-4a22-a47d-8c48425ef4a7',\n",
       "  'publishingOrgKey': '28eb1a3f-1c15-4a95-931a-4af90ecb574d',\n",
       "  'installationKey': '997448a8-f762-11e1-a439-00145eb45e9a',\n",
       "  'publishingCountry': 'US',\n",
       "  'protocol': 'DWC_ARCHIVE',\n",
       "  'lastCrawled': '2020-09-06T07:49:09.150+0000',\n",
       "  'lastParsed': '2020-09-06T09:40:40.376+0000',\n",
       "  'crawlId': 230,\n",
       "  'extensions': {},\n",
       "  'basisOfRecord': 'HUMAN_OBSERVATION',\n",
       "  'occurrenceStatus': 'PRESENT',\n",
       "  'taxonKey': 5051459,\n",
       "  'kingdomKey': 1,\n",
       "  'phylumKey': 54,\n",
       "  'classKey': 216,\n",
       "  'orderKey': 789,\n",
       "  'familyKey': 8577,\n",
       "  'genusKey': 1422607,\n",
       "  'speciesKey': 5051459,\n",
       "  'acceptedTaxonKey': 5051459,\n",
       "  'scientificName': 'Argia agrioides Calvert, 1895',\n",
       "  'acceptedScientificName': 'Argia agrioides Calvert, 1895',\n",
       "  'kingdom': 'Animalia',\n",
       "  'phylum': 'Arthropoda',\n",
       "  'order': 'Odonata',\n",
       "  'family': 'Coenagrionidae',\n",
       "  'genus': 'Argia',\n",
       "  'species': 'Argia agrioides',\n",
       "  'genericName': 'Argia',\n",
       "  'specificEpithet': 'agrioides',\n",
       "  'taxonRank': 'SPECIES',\n",
       "  'taxonomicStatus': 'ACCEPTED',\n",
       "  'dateIdentified': '2020-02-03T04:24:45',\n",
       "  'decimalLongitude': -111.437345,\n",
       "  'decimalLatitude': 25.986125,\n",
       "  'stateProvince': 'Baja California Sur',\n",
       "  'year': 2020,\n",
       "  'month': 1,\n",
       "  'day': 14,\n",
       "  'eventDate': '2020-01-14T13:38:00',\n",
       "  'issues': ['COORDINATE_ROUNDED', 'GEODETIC_DATUM_ASSUMED_WGS84'],\n",
       "  'modified': '2020-04-04T22:49:18.000+0000',\n",
       "  'lastInterpreted': '2020-09-06T09:40:40.376+0000',\n",
       "  'references': 'https://www.inaturalist.org/observations/38246899',\n",
       "  'license': 'http://creativecommons.org/licenses/by-nc/4.0/legalcode',\n",
       "  'identifiers': [],\n",
       "  'media': [{'type': 'StillImage',\n",
       "    'format': 'image/jpeg',\n",
       "    'references': 'https://www.inaturalist.org/photos/60760714',\n",
       "    'created': '2020-01-14T13:38:52.000+0000',\n",
       "    'creator': 'Liz Osborn',\n",
       "    'publisher': 'iNaturalist',\n",
       "    'license': 'http://creativecommons.org/licenses/by-nc/4.0/',\n",
       "    'rightsHolder': 'Liz Osborn',\n",
       "    'identifier': 'https://static.inaturalist.org/photos/60760714/original.jpg?1580703795'}],\n",
       "  'facts': [],\n",
       "  'relations': [],\n",
       "  'gadm': {'level0': {'gid': 'MEX', 'name': 'Mexico'},\n",
       "   'level1': {'gid': 'MEX.2_1', 'name': 'Baja California Sur'},\n",
       "   'level2': {'gid': 'MEX.2.1_1', 'name': 'Comondú'}},\n",
       "  'geodeticDatum': 'WGS84',\n",
       "  'class': 'Insecta',\n",
       "  'countryCode': 'MX',\n",
       "  'recordedByIDs': [],\n",
       "  'identifiedByIDs': [],\n",
       "  'country': 'Mexico',\n",
       "  'rightsHolder': 'Liz Osborn',\n",
       "  'identifier': '38246899',\n",
       "  'http://unknown.org/nick': 'lizosborn',\n",
       "  'verbatimEventDate': '2020/01/14 1:38 PM PST',\n",
       "  'datasetName': 'iNaturalist research-grade observations',\n",
       "  'collectionCode': 'Observations',\n",
       "  'gbifID': '2596088009',\n",
       "  'verbatimLocality': 'Loreto Municipality, Baja California Sur, Mexico',\n",
       "  'occurrenceID': 'https://www.inaturalist.org/observations/38246899',\n",
       "  'taxonID': '51220',\n",
       "  'catalogNumber': '38246899',\n",
       "  'recordedBy': 'Liz Osborn',\n",
       "  'http://unknown.org/occurrenceDetails': 'https://www.inaturalist.org/observations/38246899',\n",
       "  'institutionCode': 'iNaturalist',\n",
       "  'rights': '© Liz Osborn some rights reserved',\n",
       "  'eventTime': '21:38:00Z',\n",
       "  'identifiedBy': 'Liz Osborn',\n",
       "  'identificationID': '85772083'},\n",
       " {'key': 2597716824,\n",
       "  'datasetKey': '50c9509d-22c7-4a22-a47d-8c48425ef4a7',\n",
       "  'publishingOrgKey': '28eb1a3f-1c15-4a95-931a-4af90ecb574d',\n",
       "  'installationKey': '997448a8-f762-11e1-a439-00145eb45e9a',\n",
       "  'publishingCountry': 'US',\n",
       "  'protocol': 'DWC_ARCHIVE',\n",
       "  'lastCrawled': '2020-09-06T07:49:09.150+0000',\n",
       "  'lastParsed': '2020-09-06T09:57:19.078+0000',\n",
       "  'crawlId': 230,\n",
       "  'extensions': {},\n",
       "  'basisOfRecord': 'HUMAN_OBSERVATION',\n",
       "  'occurrenceStatus': 'PRESENT',\n",
       "  'taxonKey': 5051459,\n",
       "  'kingdomKey': 1,\n",
       "  'phylumKey': 54,\n",
       "  'classKey': 216,\n",
       "  'orderKey': 789,\n",
       "  'familyKey': 8577,\n",
       "  'genusKey': 1422607,\n",
       "  'speciesKey': 5051459,\n",
       "  'acceptedTaxonKey': 5051459,\n",
       "  'scientificName': 'Argia agrioides Calvert, 1895',\n",
       "  'acceptedScientificName': 'Argia agrioides Calvert, 1895',\n",
       "  'kingdom': 'Animalia',\n",
       "  'phylum': 'Arthropoda',\n",
       "  'order': 'Odonata',\n",
       "  'family': 'Coenagrionidae',\n",
       "  'genus': 'Argia',\n",
       "  'species': 'Argia agrioides',\n",
       "  'genericName': 'Argia',\n",
       "  'specificEpithet': 'agrioides',\n",
       "  'taxonRank': 'SPECIES',\n",
       "  'taxonomicStatus': 'ACCEPTED',\n",
       "  'dateIdentified': '2020-02-10T02:11:38',\n",
       "  'decimalLongitude': -109.80759,\n",
       "  'decimalLatitude': 23.472017,\n",
       "  'coordinateUncertaintyInMeters': 500.0,\n",
       "  'stateProvince': 'Baja California Sur',\n",
       "  'year': 2020,\n",
       "  'month': 1,\n",
       "  'day': 23,\n",
       "  'eventDate': '2020-01-23T15:16:00',\n",
       "  'issues': ['COORDINATE_ROUNDED', 'GEODETIC_DATUM_ASSUMED_WGS84'],\n",
       "  'modified': '2020-04-05T19:08:17.000+0000',\n",
       "  'lastInterpreted': '2020-09-06T09:57:19.078+0000',\n",
       "  'references': 'https://www.inaturalist.org/observations/38490810',\n",
       "  'license': 'http://creativecommons.org/licenses/by-nc/4.0/legalcode',\n",
       "  'identifiers': [],\n",
       "  'media': [{'type': 'StillImage',\n",
       "    'format': 'image/jpeg',\n",
       "    'references': 'https://www.inaturalist.org/photos/61181292',\n",
       "    'created': '2020-01-23T15:16:06.000+0000',\n",
       "    'creator': 'Steven Mlodinow',\n",
       "    'publisher': 'iNaturalist',\n",
       "    'license': 'http://creativecommons.org/licenses/by-nc/4.0/',\n",
       "    'rightsHolder': 'Steven Mlodinow',\n",
       "    'identifier': 'https://static.inaturalist.org/photos/61181292/original.jpg?1581300619'}],\n",
       "  'facts': [],\n",
       "  'relations': [],\n",
       "  'gadm': {'level0': {'gid': 'MEX', 'name': 'Mexico'},\n",
       "   'level1': {'gid': 'MEX.2_1', 'name': 'Baja California Sur'},\n",
       "   'level2': {'gid': 'MEX.2.2_1', 'name': 'La Paz'}},\n",
       "  'geodeticDatum': 'WGS84',\n",
       "  'class': 'Insecta',\n",
       "  'countryCode': 'MX',\n",
       "  'recordedByIDs': [],\n",
       "  'identifiedByIDs': [],\n",
       "  'country': 'Mexico',\n",
       "  'rightsHolder': 'Steven Mlodinow',\n",
       "  'identifier': '38490810',\n",
       "  'http://unknown.org/nick': 'mlodinow',\n",
       "  'verbatimEventDate': '2020/01/23 3:16 PM MST',\n",
       "  'datasetName': 'iNaturalist research-grade observations',\n",
       "  'collectionCode': 'Observations',\n",
       "  'gbifID': '2597716824',\n",
       "  'verbatimLocality': 'Agua Termales Santa Rita, Baja California Sur, Mexico',\n",
       "  'occurrenceID': 'https://www.inaturalist.org/observations/38490810',\n",
       "  'taxonID': '51220',\n",
       "  'catalogNumber': '38490810',\n",
       "  'recordedBy': 'Steven Mlodinow',\n",
       "  'http://unknown.org/occurrenceDetails': 'https://www.inaturalist.org/observations/38490810',\n",
       "  'institutionCode': 'iNaturalist',\n",
       "  'rights': '© Steven Mlodinow some rights reserved',\n",
       "  'eventTime': '22:16:00Z',\n",
       "  'identifiedBy': 'Steven Mlodinow',\n",
       "  'identificationID': '86505859'},\n",
       " {'key': 2597853826,\n",
       "  'datasetKey': '50c9509d-22c7-4a22-a47d-8c48425ef4a7',\n",
       "  'publishingOrgKey': '28eb1a3f-1c15-4a95-931a-4af90ecb574d',\n",
       "  'installationKey': '997448a8-f762-11e1-a439-00145eb45e9a',\n",
       "  'publishingCountry': 'US',\n",
       "  'protocol': 'DWC_ARCHIVE',\n",
       "  'lastCrawled': '2020-09-06T07:49:09.150+0000',\n",
       "  'lastParsed': '2020-09-06T09:58:13.098+0000',\n",
       "  'crawlId': 230,\n",
       "  'extensions': {},\n",
       "  'basisOfRecord': 'HUMAN_OBSERVATION',\n",
       "  'occurrenceStatus': 'PRESENT',\n",
       "  'taxonKey': 5051459,\n",
       "  'kingdomKey': 1,\n",
       "  'phylumKey': 54,\n",
       "  'classKey': 216,\n",
       "  'orderKey': 789,\n",
       "  'familyKey': 8577,\n",
       "  'genusKey': 1422607,\n",
       "  'speciesKey': 5051459,\n",
       "  'acceptedTaxonKey': 5051459,\n",
       "  'scientificName': 'Argia agrioides Calvert, 1895',\n",
       "  'acceptedScientificName': 'Argia agrioides Calvert, 1895',\n",
       "  'kingdom': 'Animalia',\n",
       "  'phylum': 'Arthropoda',\n",
       "  'order': 'Odonata',\n",
       "  'family': 'Coenagrionidae',\n",
       "  'genus': 'Argia',\n",
       "  'species': 'Argia agrioides',\n",
       "  'genericName': 'Argia',\n",
       "  'specificEpithet': 'agrioides',\n",
       "  'taxonRank': 'SPECIES',\n",
       "  'taxonomicStatus': 'ACCEPTED',\n",
       "  'dateIdentified': '2020-02-10T22:19:56',\n",
       "  'decimalLongitude': -109.797444,\n",
       "  'decimalLatitude': 23.36911,\n",
       "  'coordinateUncertaintyInMeters': 1204.0,\n",
       "  'stateProvince': 'Baja California Sur',\n",
       "  'year': 2020,\n",
       "  'month': 1,\n",
       "  'day': 21,\n",
       "  'eventDate': '2020-01-21T14:28:00',\n",
       "  'issues': ['COORDINATE_ROUNDED', 'GEODETIC_DATUM_ASSUMED_WGS84'],\n",
       "  'modified': '2020-04-05T18:57:13.000+0000',\n",
       "  'lastInterpreted': '2020-09-06T09:58:13.098+0000',\n",
       "  'references': 'https://www.inaturalist.org/observations/38518464',\n",
       "  'license': 'http://creativecommons.org/licenses/by-nc/4.0/legalcode',\n",
       "  'identifiers': [],\n",
       "  'media': [{'type': 'StillImage',\n",
       "    'format': 'image/jpeg',\n",
       "    'references': 'https://www.inaturalist.org/photos/61228924',\n",
       "    'created': '2020-01-21T14:28:51.000+0000',\n",
       "    'creator': 'Steven Mlodinow',\n",
       "    'publisher': 'iNaturalist',\n",
       "    'license': 'http://creativecommons.org/licenses/by-nc/4.0/',\n",
       "    'rightsHolder': 'Steven Mlodinow',\n",
       "    'identifier': 'https://static.inaturalist.org/photos/61228924/original.jpg?1581373104'}],\n",
       "  'facts': [],\n",
       "  'relations': [],\n",
       "  'gadm': {'level0': {'gid': 'MEX', 'name': 'Mexico'},\n",
       "   'level1': {'gid': 'MEX.2_1', 'name': 'Baja California Sur'},\n",
       "   'level2': {'gid': 'MEX.2.2_1', 'name': 'La Paz'}},\n",
       "  'geodeticDatum': 'WGS84',\n",
       "  'class': 'Insecta',\n",
       "  'countryCode': 'MX',\n",
       "  'recordedByIDs': [],\n",
       "  'identifiedByIDs': [],\n",
       "  'country': 'Mexico',\n",
       "  'rightsHolder': 'Steven Mlodinow',\n",
       "  'identifier': '38518464',\n",
       "  'http://unknown.org/nick': 'mlodinow',\n",
       "  'verbatimEventDate': '2020/01/21 2:28 PM MST',\n",
       "  'datasetName': 'iNaturalist research-grade observations',\n",
       "  'collectionCode': 'Observations',\n",
       "  'gbifID': '2597853826',\n",
       "  'verbatimLocality': 'Miraflores, Baja California Sur, Mexico',\n",
       "  'occurrenceID': 'https://www.inaturalist.org/observations/38518464',\n",
       "  'taxonID': '51220',\n",
       "  'catalogNumber': '38518464',\n",
       "  'recordedBy': 'Steven Mlodinow',\n",
       "  'http://unknown.org/occurrenceDetails': 'https://www.inaturalist.org/observations/38518464',\n",
       "  'institutionCode': 'iNaturalist',\n",
       "  'rights': '© Steven Mlodinow some rights reserved',\n",
       "  'eventTime': '21:28:00Z',\n",
       "  'identifiedBy': 'Steven Mlodinow',\n",
       "  'identificationID': '86594382'},\n",
       " {'key': 2574229515,\n",
       "  'datasetKey': '50c9509d-22c7-4a22-a47d-8c48425ef4a7',\n",
       "  'publishingOrgKey': '28eb1a3f-1c15-4a95-931a-4af90ecb574d',\n",
       "  'installationKey': '997448a8-f762-11e1-a439-00145eb45e9a',\n",
       "  'publishingCountry': 'US',\n",
       "  'protocol': 'DWC_ARCHIVE',\n",
       "  'lastCrawled': '2020-09-06T07:49:09.150+0000',\n",
       "  'lastParsed': '2020-09-06T09:40:21.793+0000',\n",
       "  'crawlId': 230,\n",
       "  'extensions': {},\n",
       "  'basisOfRecord': 'HUMAN_OBSERVATION',\n",
       "  'occurrenceStatus': 'PRESENT',\n",
       "  'taxonKey': 5051459,\n",
       "  'kingdomKey': 1,\n",
       "  'phylumKey': 54,\n",
       "  'classKey': 216,\n",
       "  'orderKey': 789,\n",
       "  'familyKey': 8577,\n",
       "  'genusKey': 1422607,\n",
       "  'speciesKey': 5051459,\n",
       "  'acceptedTaxonKey': 5051459,\n",
       "  'scientificName': 'Argia agrioides Calvert, 1895',\n",
       "  'acceptedScientificName': 'Argia agrioides Calvert, 1895',\n",
       "  'kingdom': 'Animalia',\n",
       "  'phylum': 'Arthropoda',\n",
       "  'order': 'Odonata',\n",
       "  'family': 'Coenagrionidae',\n",
       "  'genus': 'Argia',\n",
       "  'species': 'Argia agrioides',\n",
       "  'genericName': 'Argia',\n",
       "  'specificEpithet': 'agrioides',\n",
       "  'taxonRank': 'SPECIES',\n",
       "  'taxonomicStatus': 'ACCEPTED',\n",
       "  'dateIdentified': '2020-02-09T15:21:49',\n",
       "  'decimalLongitude': -109.808186,\n",
       "  'decimalLatitude': 23.471925,\n",
       "  'stateProvince': 'Baja California Sur',\n",
       "  'year': 2020,\n",
       "  'month': 2,\n",
       "  'day': 7,\n",
       "  'eventDate': '2020-02-07T13:05:00',\n",
       "  'issues': ['COORDINATE_ROUNDED', 'GEODETIC_DATUM_ASSUMED_WGS84'],\n",
       "  'modified': '2020-02-09T15:21:49.000+0000',\n",
       "  'lastInterpreted': '2020-09-06T09:40:21.793+0000',\n",
       "  'references': 'https://www.inaturalist.org/observations/38430395',\n",
       "  'license': 'http://creativecommons.org/licenses/by-nc/4.0/legalcode',\n",
       "  'identifiers': [],\n",
       "  'media': [],\n",
       "  'facts': [],\n",
       "  'relations': [],\n",
       "  'gadm': {'level0': {'gid': 'MEX', 'name': 'Mexico'},\n",
       "   'level1': {'gid': 'MEX.2_1', 'name': 'Baja California Sur'},\n",
       "   'level2': {'gid': 'MEX.2.2_1', 'name': 'La Paz'}},\n",
       "  'geodeticDatum': 'WGS84',\n",
       "  'class': 'Insecta',\n",
       "  'countryCode': 'MX',\n",
       "  'recordedByIDs': [],\n",
       "  'identifiedByIDs': [],\n",
       "  'country': 'Mexico',\n",
       "  'rightsHolder': 'Bill Levine',\n",
       "  'identifier': '38430395',\n",
       "  'http://unknown.org/nick': 'blevine',\n",
       "  'verbatimEventDate': '2020/02/07 1:05 PM MST',\n",
       "  'datasetName': 'iNaturalist research-grade observations',\n",
       "  'collectionCode': 'Observations',\n",
       "  'gbifID': '2574229515',\n",
       "  'verbatimLocality': 'Los Cabos, Baja California Sur, Mexico',\n",
       "  'occurrenceID': 'https://www.inaturalist.org/observations/38430395',\n",
       "  'taxonID': '51220',\n",
       "  'catalogNumber': '38430395',\n",
       "  'recordedBy': 'Bill Levine',\n",
       "  'http://unknown.org/occurrenceDetails': 'https://www.inaturalist.org/observations/38430395',\n",
       "  'institutionCode': 'iNaturalist',\n",
       "  'rights': '© Bill Levine some rights reserved',\n",
       "  'eventTime': '20:05:00Z',\n",
       "  'identifiedBy': 'Kathy Claypole Biggs',\n",
       "  'identificationID': '86442978'},\n",
       " {'key': 2596274195,\n",
       "  'datasetKey': '50c9509d-22c7-4a22-a47d-8c48425ef4a7',\n",
       "  'publishingOrgKey': '28eb1a3f-1c15-4a95-931a-4af90ecb574d',\n",
       "  'installationKey': '997448a8-f762-11e1-a439-00145eb45e9a',\n",
       "  'publishingCountry': 'US',\n",
       "  'protocol': 'DWC_ARCHIVE',\n",
       "  'lastCrawled': '2020-09-06T07:49:09.150+0000',\n",
       "  'lastParsed': '2020-09-06T09:58:23.916+0000',\n",
       "  'crawlId': 230,\n",
       "  'extensions': {},\n",
       "  'basisOfRecord': 'HUMAN_OBSERVATION',\n",
       "  'occurrenceStatus': 'PRESENT',\n",
       "  'taxonKey': 5051459,\n",
       "  'kingdomKey': 1,\n",
       "  'phylumKey': 54,\n",
       "  'classKey': 216,\n",
       "  'orderKey': 789,\n",
       "  'familyKey': 8577,\n",
       "  'genusKey': 1422607,\n",
       "  'speciesKey': 5051459,\n",
       "  'acceptedTaxonKey': 5051459,\n",
       "  'scientificName': 'Argia agrioides Calvert, 1895',\n",
       "  'acceptedScientificName': 'Argia agrioides Calvert, 1895',\n",
       "  'kingdom': 'Animalia',\n",
       "  'phylum': 'Arthropoda',\n",
       "  'order': 'Odonata',\n",
       "  'family': 'Coenagrionidae',\n",
       "  'genus': 'Argia',\n",
       "  'species': 'Argia agrioides',\n",
       "  'genericName': 'Argia',\n",
       "  'specificEpithet': 'agrioides',\n",
       "  'taxonRank': 'SPECIES',\n",
       "  'taxonomicStatus': 'ACCEPTED',\n",
       "  'dateIdentified': '2020-03-19T16:53:41',\n",
       "  'decimalLongitude': -109.691143,\n",
       "  'decimalLatitude': 23.055163,\n",
       "  'coordinateUncertaintyInMeters': 8.0,\n",
       "  'stateProvince': 'Baja California Sur',\n",
       "  'year': 2020,\n",
       "  'month': 3,\n",
       "  'day': 18,\n",
       "  'eventDate': '2020-03-18T16:29:00',\n",
       "  'issues': ['COORDINATE_ROUNDED', 'GEODETIC_DATUM_ASSUMED_WGS84'],\n",
       "  'modified': '2020-04-05T02:14:17.000+0000',\n",
       "  'lastInterpreted': '2020-09-06T09:58:23.916+0000',\n",
       "  'references': 'https://www.inaturalist.org/observations/40239905',\n",
       "  'license': 'http://creativecommons.org/licenses/by-nc/4.0/legalcode',\n",
       "  'identifiers': [],\n",
       "  'media': [{'type': 'StillImage',\n",
       "    'format': 'image/jpeg',\n",
       "    'references': 'https://www.inaturalist.org/photos/63924805',\n",
       "    'created': '2020-03-18T16:29:39.000+0000',\n",
       "    'creator': 'Giff Beaton',\n",
       "    'publisher': 'iNaturalist',\n",
       "    'license': 'http://creativecommons.org/licenses/by-nc/4.0/',\n",
       "    'rightsHolder': 'Giff Beaton',\n",
       "    'identifier': 'https://static.inaturalist.org/photos/63924805/original.jpg?1584636803'}],\n",
       "  'facts': [],\n",
       "  'relations': [],\n",
       "  'gadm': {'level0': {'gid': 'MEX', 'name': 'Mexico'},\n",
       "   'level1': {'gid': 'MEX.2_1', 'name': 'Baja California Sur'},\n",
       "   'level2': {'gid': 'MEX.2.2_1', 'name': 'La Paz'}},\n",
       "  'geodeticDatum': 'WGS84',\n",
       "  'class': 'Insecta',\n",
       "  'countryCode': 'MX',\n",
       "  'recordedByIDs': [],\n",
       "  'identifiedByIDs': [],\n",
       "  'country': 'Mexico',\n",
       "  'rightsHolder': 'Giff Beaton',\n",
       "  'identifier': '40239905',\n",
       "  'http://unknown.org/nick': 'giffbeaton',\n",
       "  'verbatimEventDate': '2020/03/18 4:29 PM EDT',\n",
       "  'datasetName': 'iNaturalist research-grade observations',\n",
       "  'collectionCode': 'Observations',\n",
       "  'gbifID': '2596274195',\n",
       "  'verbatimLocality': 'Los Cabos, Baja California Sur, Mexico',\n",
       "  'occurrenceID': 'https://www.inaturalist.org/observations/40239905',\n",
       "  'taxonID': '51220',\n",
       "  'catalogNumber': '40239905',\n",
       "  'recordedBy': 'Giff Beaton',\n",
       "  'http://unknown.org/occurrenceDetails': 'https://www.inaturalist.org/observations/40239905',\n",
       "  'institutionCode': 'iNaturalist',\n",
       "  'rights': '© Giff Beaton some rights reserved',\n",
       "  'eventTime': '20:29:00Z',\n",
       "  'identifiedBy': 'Giff Beaton',\n",
       "  'identificationID': '91042743'}]"
      ]
     },
     "execution_count": 31,
     "metadata": {},
     "output_type": "execute_result"
    }
   ],
   "source": [
    "records = get_species_records('Argia agrioides') # Get the species records using the function we defined\n",
    "records[:5] # Show the first five rows of the records we obtained"
   ]
  },
  {
   "cell_type": "markdown",
   "metadata": {},
   "source": [
    "#student\n",
    "<div class=\"alert alert-block alert-warning\">\n",
    "    <b>QUESTION 2:</b>\n",
    "    <br />\n",
    "    In one or two sentences, explain: Why might it be valuable to know the documented occurences of a species? Name one organization which would find this information useful.\n",
    "</div>"
   ]
  },
  {
   "cell_type": "markdown",
   "metadata": {},
   "source": [
    "#student\n",
    "\n",
    "YOUR RESPONSE HERE"
   ]
  },
  {
   "cell_type": "markdown",
   "metadata": {},
   "source": [
    "#student\n",
    "<div class=\"alert alert-block alert-warning\">\n",
    "    <b>QUESTION 3:</b>\n",
    "    <br />\n",
    "    In one or two sentences, explain: What is the geographic range of an organism.\n",
    "</div>"
   ]
  },
  {
   "cell_type": "markdown",
   "metadata": {},
   "source": [
    "#student\n",
    "\n",
    "YOUR RESPONSE HERE"
   ]
  },
  {
   "cell_type": "markdown",
   "metadata": {},
   "source": [
    "#student\n",
    "<div class=\"alert alert-block alert-warning\">\n",
    "    <b>QUESTION 4:</b>\n",
    "    <br />\n",
    "    In a short paragraph, explain: How can museum records help us to understand how populations are changing?\n",
    "</div>"
   ]
  },
  {
   "cell_type": "markdown",
   "metadata": {},
   "source": [
    "#student\n",
    "\n",
    "YOUR RESPONSE HERE"
   ]
  },
  {
   "cell_type": "markdown",
   "metadata": {},
   "source": [
    "---"
   ]
  },
  {
   "cell_type": "markdown",
   "metadata": {},
   "source": [
    "### DataFrames\n",
    "\n",
    "The JSON-format data we looked at above contains helpful information but it's really hard to see look through. The text we saw above was just the first 5 entries! Instead, let's create a table that organizes this data for us. We'll use the popular [Pandas](http://pandas.pydata.org/) Python library. In `pandas`, a DataFrame is a table that has several convenient features that make it much easier to read, access, and analyze data."
   ]
  },
  {
   "cell_type": "code",
   "execution_count": 32,
   "metadata": {
    "scrolled": false
   },
   "outputs": [
    {
     "data": {
      "text/html": [
       "<div>\n",
       "<style scoped>\n",
       "    .dataframe tbody tr th:only-of-type {\n",
       "        vertical-align: middle;\n",
       "    }\n",
       "\n",
       "    .dataframe tbody tr th {\n",
       "        vertical-align: top;\n",
       "    }\n",
       "\n",
       "    .dataframe thead th {\n",
       "        text-align: right;\n",
       "    }\n",
       "</style>\n",
       "<table border=\"1\" class=\"dataframe\">\n",
       "  <thead>\n",
       "    <tr style=\"text-align: right;\">\n",
       "      <th></th>\n",
       "      <th>key</th>\n",
       "      <th>datasetKey</th>\n",
       "      <th>publishingOrgKey</th>\n",
       "      <th>installationKey</th>\n",
       "      <th>publishingCountry</th>\n",
       "      <th>protocol</th>\n",
       "      <th>lastCrawled</th>\n",
       "      <th>lastParsed</th>\n",
       "      <th>crawlId</th>\n",
       "      <th>basisOfRecord</th>\n",
       "      <th>...</th>\n",
       "      <th>disposition</th>\n",
       "      <th>previousIdentifications</th>\n",
       "      <th>ownerInstitutionCode</th>\n",
       "      <th>datasetID</th>\n",
       "      <th>bibliographicCitation</th>\n",
       "      <th>georeferencedBy</th>\n",
       "      <th>georeferenceVerificationStatus</th>\n",
       "      <th>acceptedNameUsage</th>\n",
       "      <th>otherCatalogNumbers</th>\n",
       "      <th>organismID</th>\n",
       "    </tr>\n",
       "  </thead>\n",
       "  <tbody>\n",
       "    <tr>\n",
       "      <th>0</th>\n",
       "      <td>2596088009</td>\n",
       "      <td>50c9509d-22c7-4a22-a47d-8c48425ef4a7</td>\n",
       "      <td>28eb1a3f-1c15-4a95-931a-4af90ecb574d</td>\n",
       "      <td>997448a8-f762-11e1-a439-00145eb45e9a</td>\n",
       "      <td>US</td>\n",
       "      <td>DWC_ARCHIVE</td>\n",
       "      <td>2020-09-06T07:49:09.150+0000</td>\n",
       "      <td>2020-09-06T09:40:40.376+0000</td>\n",
       "      <td>230</td>\n",
       "      <td>HUMAN_OBSERVATION</td>\n",
       "      <td>...</td>\n",
       "      <td>NaN</td>\n",
       "      <td>NaN</td>\n",
       "      <td>NaN</td>\n",
       "      <td>NaN</td>\n",
       "      <td>NaN</td>\n",
       "      <td>NaN</td>\n",
       "      <td>NaN</td>\n",
       "      <td>NaN</td>\n",
       "      <td>NaN</td>\n",
       "      <td>NaN</td>\n",
       "    </tr>\n",
       "    <tr>\n",
       "      <th>1</th>\n",
       "      <td>2597716824</td>\n",
       "      <td>50c9509d-22c7-4a22-a47d-8c48425ef4a7</td>\n",
       "      <td>28eb1a3f-1c15-4a95-931a-4af90ecb574d</td>\n",
       "      <td>997448a8-f762-11e1-a439-00145eb45e9a</td>\n",
       "      <td>US</td>\n",
       "      <td>DWC_ARCHIVE</td>\n",
       "      <td>2020-09-06T07:49:09.150+0000</td>\n",
       "      <td>2020-09-06T09:57:19.078+0000</td>\n",
       "      <td>230</td>\n",
       "      <td>HUMAN_OBSERVATION</td>\n",
       "      <td>...</td>\n",
       "      <td>NaN</td>\n",
       "      <td>NaN</td>\n",
       "      <td>NaN</td>\n",
       "      <td>NaN</td>\n",
       "      <td>NaN</td>\n",
       "      <td>NaN</td>\n",
       "      <td>NaN</td>\n",
       "      <td>NaN</td>\n",
       "      <td>NaN</td>\n",
       "      <td>NaN</td>\n",
       "    </tr>\n",
       "    <tr>\n",
       "      <th>2</th>\n",
       "      <td>2597853826</td>\n",
       "      <td>50c9509d-22c7-4a22-a47d-8c48425ef4a7</td>\n",
       "      <td>28eb1a3f-1c15-4a95-931a-4af90ecb574d</td>\n",
       "      <td>997448a8-f762-11e1-a439-00145eb45e9a</td>\n",
       "      <td>US</td>\n",
       "      <td>DWC_ARCHIVE</td>\n",
       "      <td>2020-09-06T07:49:09.150+0000</td>\n",
       "      <td>2020-09-06T09:58:13.098+0000</td>\n",
       "      <td>230</td>\n",
       "      <td>HUMAN_OBSERVATION</td>\n",
       "      <td>...</td>\n",
       "      <td>NaN</td>\n",
       "      <td>NaN</td>\n",
       "      <td>NaN</td>\n",
       "      <td>NaN</td>\n",
       "      <td>NaN</td>\n",
       "      <td>NaN</td>\n",
       "      <td>NaN</td>\n",
       "      <td>NaN</td>\n",
       "      <td>NaN</td>\n",
       "      <td>NaN</td>\n",
       "    </tr>\n",
       "    <tr>\n",
       "      <th>3</th>\n",
       "      <td>2574229515</td>\n",
       "      <td>50c9509d-22c7-4a22-a47d-8c48425ef4a7</td>\n",
       "      <td>28eb1a3f-1c15-4a95-931a-4af90ecb574d</td>\n",
       "      <td>997448a8-f762-11e1-a439-00145eb45e9a</td>\n",
       "      <td>US</td>\n",
       "      <td>DWC_ARCHIVE</td>\n",
       "      <td>2020-09-06T07:49:09.150+0000</td>\n",
       "      <td>2020-09-06T09:40:21.793+0000</td>\n",
       "      <td>230</td>\n",
       "      <td>HUMAN_OBSERVATION</td>\n",
       "      <td>...</td>\n",
       "      <td>NaN</td>\n",
       "      <td>NaN</td>\n",
       "      <td>NaN</td>\n",
       "      <td>NaN</td>\n",
       "      <td>NaN</td>\n",
       "      <td>NaN</td>\n",
       "      <td>NaN</td>\n",
       "      <td>NaN</td>\n",
       "      <td>NaN</td>\n",
       "      <td>NaN</td>\n",
       "    </tr>\n",
       "    <tr>\n",
       "      <th>4</th>\n",
       "      <td>2596274195</td>\n",
       "      <td>50c9509d-22c7-4a22-a47d-8c48425ef4a7</td>\n",
       "      <td>28eb1a3f-1c15-4a95-931a-4af90ecb574d</td>\n",
       "      <td>997448a8-f762-11e1-a439-00145eb45e9a</td>\n",
       "      <td>US</td>\n",
       "      <td>DWC_ARCHIVE</td>\n",
       "      <td>2020-09-06T07:49:09.150+0000</td>\n",
       "      <td>2020-09-06T09:58:23.916+0000</td>\n",
       "      <td>230</td>\n",
       "      <td>HUMAN_OBSERVATION</td>\n",
       "      <td>...</td>\n",
       "      <td>NaN</td>\n",
       "      <td>NaN</td>\n",
       "      <td>NaN</td>\n",
       "      <td>NaN</td>\n",
       "      <td>NaN</td>\n",
       "      <td>NaN</td>\n",
       "      <td>NaN</td>\n",
       "      <td>NaN</td>\n",
       "      <td>NaN</td>\n",
       "      <td>NaN</td>\n",
       "    </tr>\n",
       "  </tbody>\n",
       "</table>\n",
       "<p>5 rows × 122 columns</p>\n",
       "</div>"
      ],
      "text/plain": [
       "          key                            datasetKey  \\\n",
       "0  2596088009  50c9509d-22c7-4a22-a47d-8c48425ef4a7   \n",
       "1  2597716824  50c9509d-22c7-4a22-a47d-8c48425ef4a7   \n",
       "2  2597853826  50c9509d-22c7-4a22-a47d-8c48425ef4a7   \n",
       "3  2574229515  50c9509d-22c7-4a22-a47d-8c48425ef4a7   \n",
       "4  2596274195  50c9509d-22c7-4a22-a47d-8c48425ef4a7   \n",
       "\n",
       "                       publishingOrgKey                       installationKey  \\\n",
       "0  28eb1a3f-1c15-4a95-931a-4af90ecb574d  997448a8-f762-11e1-a439-00145eb45e9a   \n",
       "1  28eb1a3f-1c15-4a95-931a-4af90ecb574d  997448a8-f762-11e1-a439-00145eb45e9a   \n",
       "2  28eb1a3f-1c15-4a95-931a-4af90ecb574d  997448a8-f762-11e1-a439-00145eb45e9a   \n",
       "3  28eb1a3f-1c15-4a95-931a-4af90ecb574d  997448a8-f762-11e1-a439-00145eb45e9a   \n",
       "4  28eb1a3f-1c15-4a95-931a-4af90ecb574d  997448a8-f762-11e1-a439-00145eb45e9a   \n",
       "\n",
       "  publishingCountry     protocol                   lastCrawled  \\\n",
       "0                US  DWC_ARCHIVE  2020-09-06T07:49:09.150+0000   \n",
       "1                US  DWC_ARCHIVE  2020-09-06T07:49:09.150+0000   \n",
       "2                US  DWC_ARCHIVE  2020-09-06T07:49:09.150+0000   \n",
       "3                US  DWC_ARCHIVE  2020-09-06T07:49:09.150+0000   \n",
       "4                US  DWC_ARCHIVE  2020-09-06T07:49:09.150+0000   \n",
       "\n",
       "                     lastParsed  crawlId      basisOfRecord  ... disposition  \\\n",
       "0  2020-09-06T09:40:40.376+0000      230  HUMAN_OBSERVATION  ...         NaN   \n",
       "1  2020-09-06T09:57:19.078+0000      230  HUMAN_OBSERVATION  ...         NaN   \n",
       "2  2020-09-06T09:58:13.098+0000      230  HUMAN_OBSERVATION  ...         NaN   \n",
       "3  2020-09-06T09:40:21.793+0000      230  HUMAN_OBSERVATION  ...         NaN   \n",
       "4  2020-09-06T09:58:23.916+0000      230  HUMAN_OBSERVATION  ...         NaN   \n",
       "\n",
       "   previousIdentifications  ownerInstitutionCode  datasetID  \\\n",
       "0                      NaN                   NaN        NaN   \n",
       "1                      NaN                   NaN        NaN   \n",
       "2                      NaN                   NaN        NaN   \n",
       "3                      NaN                   NaN        NaN   \n",
       "4                      NaN                   NaN        NaN   \n",
       "\n",
       "   bibliographicCitation  georeferencedBy  georeferenceVerificationStatus  \\\n",
       "0                    NaN              NaN                             NaN   \n",
       "1                    NaN              NaN                             NaN   \n",
       "2                    NaN              NaN                             NaN   \n",
       "3                    NaN              NaN                             NaN   \n",
       "4                    NaN              NaN                             NaN   \n",
       "\n",
       "   acceptedNameUsage  otherCatalogNumbers  organismID  \n",
       "0                NaN                  NaN         NaN  \n",
       "1                NaN                  NaN         NaN  \n",
       "2                NaN                  NaN         NaN  \n",
       "3                NaN                  NaN         NaN  \n",
       "4                NaN                  NaN         NaN  \n",
       "\n",
       "[5 rows x 122 columns]"
      ]
     },
     "execution_count": 32,
     "metadata": {},
     "output_type": "execute_result"
    }
   ],
   "source": [
    "records_df = json_normalize(records)  # converts the JSON above to a dataframe\n",
    "records_df.head()                               # prints the first five rows of the dataframe"
   ]
  },
  {
   "cell_type": "markdown",
   "metadata": {},
   "source": [
    "Since we're going to want to get DataFrames of species records several times in the future, let's also create function that does this for us."
   ]
  },
  {
   "cell_type": "code",
   "execution_count": 35,
   "metadata": {},
   "outputs": [],
   "source": [
    "def get_species_records_df(scientific_name):\n",
    "    records = get_species_records(scientific_name) # Get the records using the function we defined earlier\n",
    "    records_df = json_normalize(records) # Convert the raw records into a DataFrame\n",
    "    return records_df"
   ]
  },
  {
   "cell_type": "code",
   "execution_count": 57,
   "metadata": {},
   "outputs": [],
   "source": [
    "records_df = get_species_records_df('Argia agrioides')"
   ]
  },
  {
   "cell_type": "markdown",
   "metadata": {},
   "source": [
    "DataFrames have a shape attribute which describes its row and column count."
   ]
  },
  {
   "cell_type": "code",
   "execution_count": 58,
   "metadata": {},
   "outputs": [
    {
     "data": {
      "text/plain": [
       "(349, 122)"
      ]
     },
     "execution_count": 58,
     "metadata": {},
     "output_type": "execute_result"
    }
   ],
   "source": [
    "records_df.shape"
   ]
  },
  {
   "cell_type": "markdown",
   "metadata": {},
   "source": [
    "So we have 318 rows and 116 columns! That's a lot of information. What variables do we have in the columns?"
   ]
  },
  {
   "cell_type": "code",
   "execution_count": 59,
   "metadata": {
    "scrolled": true
   },
   "outputs": [
    {
     "data": {
      "text/plain": [
       "['key',\n",
       " 'datasetKey',\n",
       " 'publishingOrgKey',\n",
       " 'installationKey',\n",
       " 'publishingCountry',\n",
       " 'protocol',\n",
       " 'lastCrawled',\n",
       " 'lastParsed',\n",
       " 'crawlId',\n",
       " 'basisOfRecord',\n",
       " 'occurrenceStatus',\n",
       " 'taxonKey',\n",
       " 'kingdomKey',\n",
       " 'phylumKey',\n",
       " 'classKey',\n",
       " 'orderKey',\n",
       " 'familyKey',\n",
       " 'genusKey',\n",
       " 'speciesKey',\n",
       " 'acceptedTaxonKey',\n",
       " 'scientificName',\n",
       " 'acceptedScientificName',\n",
       " 'kingdom',\n",
       " 'phylum',\n",
       " 'order',\n",
       " 'family',\n",
       " 'genus',\n",
       " 'species',\n",
       " 'genericName',\n",
       " 'specificEpithet',\n",
       " 'taxonRank',\n",
       " 'taxonomicStatus',\n",
       " 'dateIdentified',\n",
       " 'decimalLongitude',\n",
       " 'decimalLatitude',\n",
       " 'stateProvince',\n",
       " 'year',\n",
       " 'month',\n",
       " 'day',\n",
       " 'eventDate',\n",
       " 'issues',\n",
       " 'modified',\n",
       " 'lastInterpreted',\n",
       " 'references',\n",
       " 'license',\n",
       " 'identifiers',\n",
       " 'media',\n",
       " 'facts',\n",
       " 'relations',\n",
       " 'geodeticDatum',\n",
       " 'class',\n",
       " 'countryCode',\n",
       " 'recordedByIDs',\n",
       " 'identifiedByIDs',\n",
       " 'country',\n",
       " 'rightsHolder',\n",
       " 'identifier',\n",
       " 'http://unknown.org/nick',\n",
       " 'verbatimEventDate',\n",
       " 'datasetName',\n",
       " 'collectionCode',\n",
       " 'gbifID',\n",
       " 'verbatimLocality',\n",
       " 'occurrenceID',\n",
       " 'taxonID',\n",
       " 'catalogNumber',\n",
       " 'recordedBy',\n",
       " 'http://unknown.org/occurrenceDetails',\n",
       " 'institutionCode',\n",
       " 'rights',\n",
       " 'eventTime',\n",
       " 'identifiedBy',\n",
       " 'identificationID',\n",
       " 'gadm.level0.gid',\n",
       " 'gadm.level0.name',\n",
       " 'gadm.level1.gid',\n",
       " 'gadm.level1.name',\n",
       " 'gadm.level2.gid',\n",
       " 'gadm.level2.name',\n",
       " 'coordinateUncertaintyInMeters',\n",
       " 'identificationRemarks',\n",
       " 'occurrenceRemarks',\n",
       " 'elevation',\n",
       " 'http://unknown.org/recordId',\n",
       " 'county',\n",
       " 'locality',\n",
       " 'startDayOfYear',\n",
       " 'accessRights',\n",
       " 'http://unknown.org/recordEnteredBy',\n",
       " 'verbatimElevation',\n",
       " 'collectionID',\n",
       " 'georeferenceSources',\n",
       " 'individualCount',\n",
       " 'lifeStage',\n",
       " 'preparations',\n",
       " 'continent',\n",
       " 'vernacularName',\n",
       " 'higherClassification',\n",
       " 'sex',\n",
       " 'institutionID',\n",
       " 'higherGeography',\n",
       " 'georeferenceProtocol',\n",
       " 'endDayOfYear',\n",
       " 'type',\n",
       " 'fieldNumber',\n",
       " 'dynamicProperties',\n",
       " 'associatedReferences',\n",
       " 'language',\n",
       " 'taxonRemarks',\n",
       " 'georeferencedDate',\n",
       " 'nomenclaturalCode',\n",
       " 'georeferenceRemarks',\n",
       " 'disposition',\n",
       " 'previousIdentifications',\n",
       " 'ownerInstitutionCode',\n",
       " 'datasetID',\n",
       " 'bibliographicCitation',\n",
       " 'georeferencedBy',\n",
       " 'georeferenceVerificationStatus',\n",
       " 'acceptedNameUsage',\n",
       " 'otherCatalogNumbers',\n",
       " 'organismID']"
      ]
     },
     "execution_count": 59,
     "metadata": {},
     "output_type": "execute_result"
    }
   ],
   "source": [
    "list(records_df.columns) # Show a list containing the names of every column in our DataFrame"
   ]
  },
  {
   "cell_type": "markdown",
   "metadata": {},
   "source": [
    "We can also use Pandas to analyze and visualize our data. The `value_counts()` function groups our data by a specified column and counts the number of occurrences of each column value."
   ]
  },
  {
   "cell_type": "code",
   "execution_count": 60,
   "metadata": {},
   "outputs": [
    {
     "data": {
      "text/plain": [
       "United States of America    277\n",
       "Mexico                       72\n",
       "Name: country, dtype: int64"
      ]
     },
     "execution_count": 60,
     "metadata": {},
     "output_type": "execute_result"
    }
   ],
   "source": [
    "# How many records are there from every country\n",
    "records_df['country'].value_counts()"
   ]
  },
  {
   "cell_type": "markdown",
   "metadata": {},
   "source": [
    "This tells us that we're looking at data from the US and Mexico. For small examples, this is sufficient, but for columns with more unique values, it might be helpful to look at a bar graph instead. Pandas has a `bar` function that does that for us. Don't worry about the specific syntax of how we do this."
   ]
  },
  {
   "cell_type": "markdown",
   "metadata": {},
   "source": [
    "In the following series of graphs, you might notice that we switch between horizontal and vertical bar graphs. We are going to pick whichever one we think makes our graph easier to read. There isn't much of a difference beyond that."
   ]
  },
  {
   "cell_type": "code",
   "execution_count": 61,
   "metadata": {},
   "outputs": [
    {
     "data": {
      "image/png": "[encoded data removed]",
      "text/plain": [
       "<Figure size 432x288 with 1 Axes>"
      ]
     },
     "metadata": {
      "needs_background": "light"
     },
     "output_type": "display_data"
    }
   ],
   "source": [
    "# Group the data by country and then plot it\n",
    "records_df['country'].value_counts().plot.bar();\n",
    "\n",
    "# This makes the graph easier to read\n",
    "plt.title(r\"${Argia}$\" + r\" ${agrioides}$\" + ' Distribution by Country');\n",
    "plt.xticks(rotation=0);\n",
    "plt.xlabel('Country');\n",
    "plt.ylabel('Count');"
   ]
  },
  {
   "cell_type": "code",
   "execution_count": 62,
   "metadata": {},
   "outputs": [
    {
     "data": {
      "image/png": "[encoded data removed]",
      "text/plain": [
       "<Figure size 720x720 with 1 Axes>"
      ]
     },
     "metadata": {
      "needs_background": "light"
     },
     "output_type": "display_data"
    }
   ],
   "source": [
    "# Code to quickly clean up county names\n",
    "# You can ignore this\n",
    "def clean_up_county(col):\n",
    "    if type(col) == float and np.isnan(col):\n",
    "        return None\n",
    "    else:\n",
    "        return col.replace(' Co.', '').replace(' County', '') + ' County'\n",
    "\n",
    "# Use the function defined above to clean up county names\n",
    "records_df['county_cleaned'] = records_df['county'].apply(clean_up_county)\n",
    "\n",
    "# Make graph easier to read\n",
    "plt.figure(figsize=(10,10)) # Change graph size\n",
    "plt.title(r\"${Argia}$\" + r\" ${agrioides}$\" + ' Distribution by County')\n",
    "plt.xlabel('Count')\n",
    "plt.ylabel('County')\n",
    "\n",
    "# Horizontal Bar Plot so that county names fit\n",
    "records_df['county_cleaned'].value_counts().plot.barh();"
   ]
  },
  {
   "cell_type": "markdown",
   "metadata": {},
   "source": [
    "#student\n",
    "<div class=\"alert alert-block alert-warning\">\n",
    "    <b>QUESTION 5:</b>\n",
    "    <br />\n",
    "    How many counties have only one record of <i>Argia agrioides</i>? \n",
    "</div>"
   ]
  },
  {
   "cell_type": "markdown",
   "metadata": {},
   "source": [
    "#student\n",
    "\n",
    "YOUR RESPONSE HERE"
   ]
  },
  {
   "cell_type": "markdown",
   "metadata": {},
   "source": [
    "Here's an example of Pandas code that can calculate it for you. It's kind of confusing so don't sweat the details. Compare this with your answer above."
   ]
  },
  {
   "cell_type": "code",
   "execution_count": 63,
   "metadata": {},
   "outputs": [
    {
     "data": {
      "text/plain": [
       "13"
      ]
     },
     "execution_count": 63,
     "metadata": {},
     "output_type": "execute_result"
    }
   ],
   "source": [
    "sum(records_df['county_cleaned'].value_counts() == 1)"
   ]
  },
  {
   "cell_type": "markdown",
   "metadata": {},
   "source": [
    "#student\n",
    "<div class=\"alert alert-block alert-warning\">\n",
    "    <b>QUESTION 6:</b>\n",
    "    <br />\n",
    "    Stanislaus County has the highest record of <i>Argia agrioides</i>. Other than high abundance of the species in this county, can you think of a reason why there is a high number of records here?\n",
    "</div>"
   ]
  },
  {
   "cell_type": "markdown",
   "metadata": {},
   "source": [
    "#student\n",
    "\n",
    "YOUR RESPONSE HERE"
   ]
  },
  {
   "cell_type": "markdown",
   "metadata": {},
   "source": [
    "Let's take a look at how each record was obtained."
   ]
  },
  {
   "cell_type": "code",
   "execution_count": 76,
   "metadata": {},
   "outputs": [
    {
     "data": {
      "image/png": "[encoded data removed]",
      "text/plain": [
       "<Figure size 432x288 with 1 Axes>"
      ]
     },
     "metadata": {
      "needs_background": "light"
     },
     "output_type": "display_data"
    }
   ],
   "source": [
    "records_df['basisOfRecord'].value_counts().plot.bar();\n",
    "\n",
    "# This makes the graph easier to read\n",
    "plt.title(r\"${Argia}$\" + r\" ${agrioides}$\" + ' Distribution by Source');\n",
    "plt.xticks(rotation=0);\n",
    "plt.xlabel('Source');\n",
    "plt.ylabel('Count');"
   ]
  },
  {
   "cell_type": "markdown",
   "metadata": {},
   "source": [
    "#student\n",
    "<div class=\"alert alert-block alert-warning\">\n",
    "    <b>QUESTION 7:</b>\n",
    "    <br />\n",
    "    In a two or three sentences, explain: What are some cautions that should be taken when including human observations? What are the benefits? \n",
    "</div>"
   ]
  },
  {
   "cell_type": "markdown",
   "metadata": {},
   "source": [
    "#student\n",
    "\n",
    "YOUR RESPONSE HERE"
   ]
  },
  {
   "cell_type": "code",
   "execution_count": 77,
   "metadata": {},
   "outputs": [
    {
     "data": {
      "image/png": "[encoded data removed]",
      "text/plain": [
       "<Figure size 432x288 with 1 Axes>"
      ]
     },
     "metadata": {
      "needs_background": "light"
     },
     "output_type": "display_data"
    }
   ],
   "source": [
    "records_df['collectionCode'].value_counts().plot.barh();\n",
    "\n",
    "# This makes the graph easier to read\n",
    "plt.title(r\"${Argia}$\" + r\" ${agrioides}$\" + ' Distribution by Collection');\n",
    "plt.xlabel('Collection');\n",
    "plt.ylabel('Count');"
   ]
  },
  {
   "cell_type": "markdown",
   "metadata": {},
   "source": [
    "#student\n",
    "<div class=\"alert alert-block alert-warning\">\n",
    "    <b>QUESTION 8:</b>\n",
    "    <br />\n",
    "    Each museum has a unique institution code (called a collection code). How many records belong to the Essig Museum of Entomology Collection?\n",
    "</div>"
   ]
  },
  {
   "cell_type": "markdown",
   "metadata": {},
   "source": [
    "#student\n",
    "\n",
    "YOUR RESPONSE HERE"
   ]
  },
  {
   "cell_type": "markdown",
   "metadata": {},
   "source": [
    "It's harder to check the exact number of records this time because the scale is larger. Let's check how close your answer was to the true amount."
   ]
  },
  {
   "cell_type": "code",
   "execution_count": 78,
   "metadata": {},
   "outputs": [
    {
     "data": {
      "text/plain": [
       "24"
      ]
     },
     "execution_count": 78,
     "metadata": {},
     "output_type": "execute_result"
    }
   ],
   "source": [
    "sum(records_df['collectionCode'] == 'EMEC')"
   ]
  },
  {
   "cell_type": "markdown",
   "metadata": {},
   "source": [
    "---"
   ]
  },
  {
   "cell_type": "markdown",
   "metadata": {},
   "source": [
    "The `groupby()` method allows us to group our data by the values in a specified column. We can then graph our data."
   ]
  },
  {
   "cell_type": "code",
   "execution_count": 79,
   "metadata": {},
   "outputs": [
    {
     "data": {
      "image/png": "[encoded data removed]",
      "text/plain": [
       "<Figure size 432x288 with 1 Axes>"
      ]
     },
     "metadata": {
      "needs_background": "light"
     },
     "output_type": "display_data"
    }
   ],
   "source": [
    "records_df.groupby([\"collectionCode\", \"basisOfRecord\"])['basisOfRecord'].count().unstack().plot.barh(stacked=True);\n",
    "\n",
    "# This makes the graph easier to read\n",
    "plt.title(r\"${Argia}$\" + r\" ${agrioides}$\" + ' Distribution by Collection Code and Source');\n",
    "plt.xticks(rotation=0);\n",
    "plt.xlabel('Count');\n",
    "plt.ylabel('Collection');"
   ]
  },
  {
   "cell_type": "markdown",
   "metadata": {},
   "source": [
    "Here's another example using County and Collection Code."
   ]
  },
  {
   "cell_type": "code",
   "execution_count": 80,
   "metadata": {},
   "outputs": [
    {
     "data": {
      "image/png": "[encoded data removed]",
      "text/plain": [
       "<Figure size 720x720 with 1 Axes>"
      ]
     },
     "metadata": {
      "needs_background": "light"
     },
     "output_type": "display_data"
    }
   ],
   "source": [
    "records_df.groupby([\"county_cleaned\", \"collectionCode\"])['collectionCode'].count().unstack().plot.barh(stacked=True, figsize=(10, 10));\n",
    "\n",
    "# Make graph easier to read\n",
    "plt.title(r\"${Argia}$\" + r\" ${agrioides}$\" + ' Distribution by County and Collection');\n",
    "plt.xlabel('Count');\n",
    "plt.ylabel('County');"
   ]
  },
  {
   "cell_type": "markdown",
   "metadata": {},
   "source": [
    "And we can use `plot.hist()` to make a histogram:"
   ]
  },
  {
   "cell_type": "code",
   "execution_count": 81,
   "metadata": {},
   "outputs": [
    {
     "data": {
      "image/png": "[encoded data removed]",
      "text/plain": [
       "<Figure size 432x288 with 1 Axes>"
      ]
     },
     "metadata": {
      "needs_background": "light"
     },
     "output_type": "display_data"
    }
   ],
   "source": [
    "records_df['elevation'].plot.hist();\n",
    "\n",
    "# Make graph easier to read\n",
    "plt.title(r\"${Argia}$\" + r\" ${agrioides}$\" + ' Distribution by Elevation')\n",
    "plt.xlabel('Elevation (m)');"
   ]
  },
  {
   "cell_type": "markdown",
   "metadata": {},
   "source": [
    "#student\n",
    "<div class=\"alert alert-block alert-warning\">\n",
    "    <b>QUESTION 9:</b>\n",
    "    <br />\n",
    "    In a few sentences, explain: What does plotting the elevation indicate about the distribution of <i>Argia agrioides</i>? What additional information would you want to gather to better understand the biological mechanisms limiting the range of <i>Argia agrioides</i>?\n",
    "</div>"
   ]
  },
  {
   "cell_type": "markdown",
   "metadata": {},
   "source": [
    "#student\n",
    "\n",
    "YOUR RESPONSE HERE"
   ]
  },
  {
   "cell_type": "markdown",
   "metadata": {},
   "source": [
    "---"
   ]
  },
  {
   "cell_type": "markdown",
   "metadata": {},
   "source": [
    "<div class=\"alert alert-block alert-info\">\n",
    "    <b>EXERCISE 1:</b>\n",
    "    <br />\n",
    "    Edit the code below to search for a species you're interested in, then use the graphing cells below to explore your data! Pick a species from North America and replace the \"...\" in the box below with its scientific name. Make sure to add quotation marks around the name! You can google search or use the GBIF website to find a species that interests you. Don't pick a domesticated species. \n",
    "     Please note that a species name has two parts, the first part is the genus name and the second part is the specific epithat. If the exercise doesn't work for the species that you choose, try a new species until all of the graphs generate correctly.\n",
    "</div>\n"
   ]
  },
  {
   "cell_type": "code",
   "execution_count": 82,
   "metadata": {},
   "outputs": [
    {
     "data": {
      "text/html": [
       "<div>\n",
       "<style scoped>\n",
       "    .dataframe tbody tr th:only-of-type {\n",
       "        vertical-align: middle;\n",
       "    }\n",
       "\n",
       "    .dataframe tbody tr th {\n",
       "        vertical-align: top;\n",
       "    }\n",
       "\n",
       "    .dataframe thead th {\n",
       "        text-align: right;\n",
       "    }\n",
       "</style>\n",
       "<table border=\"1\" class=\"dataframe\">\n",
       "  <thead>\n",
       "    <tr style=\"text-align: right;\">\n",
       "      <th></th>\n",
       "      <th>key</th>\n",
       "      <th>datasetKey</th>\n",
       "      <th>publishingOrgKey</th>\n",
       "      <th>installationKey</th>\n",
       "      <th>publishingCountry</th>\n",
       "      <th>protocol</th>\n",
       "      <th>lastCrawled</th>\n",
       "      <th>lastParsed</th>\n",
       "      <th>crawlId</th>\n",
       "      <th>basisOfRecord</th>\n",
       "      <th>...</th>\n",
       "      <th>disposition</th>\n",
       "      <th>previousIdentifications</th>\n",
       "      <th>ownerInstitutionCode</th>\n",
       "      <th>datasetID</th>\n",
       "      <th>bibliographicCitation</th>\n",
       "      <th>georeferencedBy</th>\n",
       "      <th>georeferenceVerificationStatus</th>\n",
       "      <th>acceptedNameUsage</th>\n",
       "      <th>otherCatalogNumbers</th>\n",
       "      <th>organismID</th>\n",
       "    </tr>\n",
       "  </thead>\n",
       "  <tbody>\n",
       "    <tr>\n",
       "      <th>0</th>\n",
       "      <td>2596088009</td>\n",
       "      <td>50c9509d-22c7-4a22-a47d-8c48425ef4a7</td>\n",
       "      <td>28eb1a3f-1c15-4a95-931a-4af90ecb574d</td>\n",
       "      <td>997448a8-f762-11e1-a439-00145eb45e9a</td>\n",
       "      <td>US</td>\n",
       "      <td>DWC_ARCHIVE</td>\n",
       "      <td>2020-09-06T07:49:09.150+0000</td>\n",
       "      <td>2020-09-06T09:40:40.376+0000</td>\n",
       "      <td>230</td>\n",
       "      <td>HUMAN_OBSERVATION</td>\n",
       "      <td>...</td>\n",
       "      <td>NaN</td>\n",
       "      <td>NaN</td>\n",
       "      <td>NaN</td>\n",
       "      <td>NaN</td>\n",
       "      <td>NaN</td>\n",
       "      <td>NaN</td>\n",
       "      <td>NaN</td>\n",
       "      <td>NaN</td>\n",
       "      <td>NaN</td>\n",
       "      <td>NaN</td>\n",
       "    </tr>\n",
       "    <tr>\n",
       "      <th>1</th>\n",
       "      <td>2597716824</td>\n",
       "      <td>50c9509d-22c7-4a22-a47d-8c48425ef4a7</td>\n",
       "      <td>28eb1a3f-1c15-4a95-931a-4af90ecb574d</td>\n",
       "      <td>997448a8-f762-11e1-a439-00145eb45e9a</td>\n",
       "      <td>US</td>\n",
       "      <td>DWC_ARCHIVE</td>\n",
       "      <td>2020-09-06T07:49:09.150+0000</td>\n",
       "      <td>2020-09-06T09:57:19.078+0000</td>\n",
       "      <td>230</td>\n",
       "      <td>HUMAN_OBSERVATION</td>\n",
       "      <td>...</td>\n",
       "      <td>NaN</td>\n",
       "      <td>NaN</td>\n",
       "      <td>NaN</td>\n",
       "      <td>NaN</td>\n",
       "      <td>NaN</td>\n",
       "      <td>NaN</td>\n",
       "      <td>NaN</td>\n",
       "      <td>NaN</td>\n",
       "      <td>NaN</td>\n",
       "      <td>NaN</td>\n",
       "    </tr>\n",
       "    <tr>\n",
       "      <th>2</th>\n",
       "      <td>2597853826</td>\n",
       "      <td>50c9509d-22c7-4a22-a47d-8c48425ef4a7</td>\n",
       "      <td>28eb1a3f-1c15-4a95-931a-4af90ecb574d</td>\n",
       "      <td>997448a8-f762-11e1-a439-00145eb45e9a</td>\n",
       "      <td>US</td>\n",
       "      <td>DWC_ARCHIVE</td>\n",
       "      <td>2020-09-06T07:49:09.150+0000</td>\n",
       "      <td>2020-09-06T09:58:13.098+0000</td>\n",
       "      <td>230</td>\n",
       "      <td>HUMAN_OBSERVATION</td>\n",
       "      <td>...</td>\n",
       "      <td>NaN</td>\n",
       "      <td>NaN</td>\n",
       "      <td>NaN</td>\n",
       "      <td>NaN</td>\n",
       "      <td>NaN</td>\n",
       "      <td>NaN</td>\n",
       "      <td>NaN</td>\n",
       "      <td>NaN</td>\n",
       "      <td>NaN</td>\n",
       "      <td>NaN</td>\n",
       "    </tr>\n",
       "    <tr>\n",
       "      <th>3</th>\n",
       "      <td>2574229515</td>\n",
       "      <td>50c9509d-22c7-4a22-a47d-8c48425ef4a7</td>\n",
       "      <td>28eb1a3f-1c15-4a95-931a-4af90ecb574d</td>\n",
       "      <td>997448a8-f762-11e1-a439-00145eb45e9a</td>\n",
       "      <td>US</td>\n",
       "      <td>DWC_ARCHIVE</td>\n",
       "      <td>2020-09-06T07:49:09.150+0000</td>\n",
       "      <td>2020-09-06T09:40:21.793+0000</td>\n",
       "      <td>230</td>\n",
       "      <td>HUMAN_OBSERVATION</td>\n",
       "      <td>...</td>\n",
       "      <td>NaN</td>\n",
       "      <td>NaN</td>\n",
       "      <td>NaN</td>\n",
       "      <td>NaN</td>\n",
       "      <td>NaN</td>\n",
       "      <td>NaN</td>\n",
       "      <td>NaN</td>\n",
       "      <td>NaN</td>\n",
       "      <td>NaN</td>\n",
       "      <td>NaN</td>\n",
       "    </tr>\n",
       "    <tr>\n",
       "      <th>4</th>\n",
       "      <td>2596274195</td>\n",
       "      <td>50c9509d-22c7-4a22-a47d-8c48425ef4a7</td>\n",
       "      <td>28eb1a3f-1c15-4a95-931a-4af90ecb574d</td>\n",
       "      <td>997448a8-f762-11e1-a439-00145eb45e9a</td>\n",
       "      <td>US</td>\n",
       "      <td>DWC_ARCHIVE</td>\n",
       "      <td>2020-09-06T07:49:09.150+0000</td>\n",
       "      <td>2020-09-06T09:58:23.916+0000</td>\n",
       "      <td>230</td>\n",
       "      <td>HUMAN_OBSERVATION</td>\n",
       "      <td>...</td>\n",
       "      <td>NaN</td>\n",
       "      <td>NaN</td>\n",
       "      <td>NaN</td>\n",
       "      <td>NaN</td>\n",
       "      <td>NaN</td>\n",
       "      <td>NaN</td>\n",
       "      <td>NaN</td>\n",
       "      <td>NaN</td>\n",
       "      <td>NaN</td>\n",
       "      <td>NaN</td>\n",
       "    </tr>\n",
       "  </tbody>\n",
       "</table>\n",
       "<p>5 rows × 122 columns</p>\n",
       "</div>"
      ],
      "text/plain": [
       "          key                            datasetKey  \\\n",
       "0  2596088009  50c9509d-22c7-4a22-a47d-8c48425ef4a7   \n",
       "1  2597716824  50c9509d-22c7-4a22-a47d-8c48425ef4a7   \n",
       "2  2597853826  50c9509d-22c7-4a22-a47d-8c48425ef4a7   \n",
       "3  2574229515  50c9509d-22c7-4a22-a47d-8c48425ef4a7   \n",
       "4  2596274195  50c9509d-22c7-4a22-a47d-8c48425ef4a7   \n",
       "\n",
       "                       publishingOrgKey                       installationKey  \\\n",
       "0  28eb1a3f-1c15-4a95-931a-4af90ecb574d  997448a8-f762-11e1-a439-00145eb45e9a   \n",
       "1  28eb1a3f-1c15-4a95-931a-4af90ecb574d  997448a8-f762-11e1-a439-00145eb45e9a   \n",
       "2  28eb1a3f-1c15-4a95-931a-4af90ecb574d  997448a8-f762-11e1-a439-00145eb45e9a   \n",
       "3  28eb1a3f-1c15-4a95-931a-4af90ecb574d  997448a8-f762-11e1-a439-00145eb45e9a   \n",
       "4  28eb1a3f-1c15-4a95-931a-4af90ecb574d  997448a8-f762-11e1-a439-00145eb45e9a   \n",
       "\n",
       "  publishingCountry     protocol                   lastCrawled  \\\n",
       "0                US  DWC_ARCHIVE  2020-09-06T07:49:09.150+0000   \n",
       "1                US  DWC_ARCHIVE  2020-09-06T07:49:09.150+0000   \n",
       "2                US  DWC_ARCHIVE  2020-09-06T07:49:09.150+0000   \n",
       "3                US  DWC_ARCHIVE  2020-09-06T07:49:09.150+0000   \n",
       "4                US  DWC_ARCHIVE  2020-09-06T07:49:09.150+0000   \n",
       "\n",
       "                     lastParsed  crawlId      basisOfRecord  ... disposition  \\\n",
       "0  2020-09-06T09:40:40.376+0000      230  HUMAN_OBSERVATION  ...         NaN   \n",
       "1  2020-09-06T09:57:19.078+0000      230  HUMAN_OBSERVATION  ...         NaN   \n",
       "2  2020-09-06T09:58:13.098+0000      230  HUMAN_OBSERVATION  ...         NaN   \n",
       "3  2020-09-06T09:40:21.793+0000      230  HUMAN_OBSERVATION  ...         NaN   \n",
       "4  2020-09-06T09:58:23.916+0000      230  HUMAN_OBSERVATION  ...         NaN   \n",
       "\n",
       "   previousIdentifications  ownerInstitutionCode  datasetID  \\\n",
       "0                      NaN                   NaN        NaN   \n",
       "1                      NaN                   NaN        NaN   \n",
       "2                      NaN                   NaN        NaN   \n",
       "3                      NaN                   NaN        NaN   \n",
       "4                      NaN                   NaN        NaN   \n",
       "\n",
       "   bibliographicCitation  georeferencedBy  georeferenceVerificationStatus  \\\n",
       "0                    NaN              NaN                             NaN   \n",
       "1                    NaN              NaN                             NaN   \n",
       "2                    NaN              NaN                             NaN   \n",
       "3                    NaN              NaN                             NaN   \n",
       "4                    NaN              NaN                             NaN   \n",
       "\n",
       "   acceptedNameUsage  otherCatalogNumbers  organismID  \n",
       "0                NaN                  NaN         NaN  \n",
       "1                NaN                  NaN         NaN  \n",
       "2                NaN                  NaN         NaN  \n",
       "3                NaN                  NaN         NaN  \n",
       "4                NaN                  NaN         NaN  \n",
       "\n",
       "[5 rows x 122 columns]"
      ]
     },
     "execution_count": 82,
     "metadata": {},
     "output_type": "execute_result"
    }
   ],
   "source": [
    "# Replace the ... in the line below with your species\n",
    "my_records_df = get_species_records_df('...')\n",
    "my_records_df.head() # Show the first 5 records"
   ]
  },
  {
   "cell_type": "markdown",
   "metadata": {},
   "source": [
    "If the output above doesn't contain a table, that means either you didn't enter a proper scientific name or the scientific name isn't in the database. Make sure you typed it correctly without abbreviating the species name. You might also have to use a different capitalization."
   ]
  },
  {
   "cell_type": "code",
   "execution_count": 83,
   "metadata": {},
   "outputs": [
    {
     "data": {
      "image/png": "[encoded data removed]",
      "text/plain": [
       "<Figure size 432x288 with 1 Axes>"
      ]
     },
     "metadata": {
      "needs_background": "light"
     },
     "output_type": "display_data"
    }
   ],
   "source": [
    "my_records_df['year'].plot.hist();\n",
    "\n",
    "# Make graph easier to read\n",
    "plt.title('Species Distribution by Year')\n",
    "plt.xlabel('Year');"
   ]
  },
  {
   "cell_type": "code",
   "execution_count": 84,
   "metadata": {},
   "outputs": [
    {
     "data": {
      "image/png": "[encoded data removed]",
      "text/plain": [
       "<Figure size 720x720 with 1 Axes>"
      ]
     },
     "metadata": {
      "needs_background": "light"
     },
     "output_type": "display_data"
    }
   ],
   "source": [
    "# Alternative plot to use if there isn't a collection code\n",
    "# my_records_df['county'].value_counts().plot.barh();\n",
    "\n",
    "my_records_df['county_cleaned'] = my_records_df['county'].apply(clean_up_county)\n",
    "my_records_df.groupby([\"county_cleaned\", \"collectionCode\"])['collectionCode'].count().unstack().plot.barh(stacked=True, figsize=(10, 10));\n",
    "\n",
    "# Make graph easier to read\n",
    "plt.title('Species Distribution by County and Collection');\n",
    "plt.xlabel('Count');\n",
    "plt.ylabel('County');"
   ]
  },
  {
   "cell_type": "markdown",
   "metadata": {},
   "source": [
    "<b>Note: </b> If the species you chose is distributed globally, the above plot may look a bit odd or the cell may have errored. Uncomment the cell below (you can highlight the entire cell and enter Control + / on PC or Command + / on Mac on your keyboard) and run it to see the same chart but with countries instead of counties."
   ]
  },
  {
   "cell_type": "code",
   "execution_count": 85,
   "metadata": {},
   "outputs": [],
   "source": [
    "# my_records_df.groupby([\"country\", \"collectionCode\"])['collectionCode'].count().unstack().plot.barh(stacked=True, figsize=(10, 10));\n",
    "# plt.title('Species Distribution by Country and Collection');\n",
    "# plt.xlabel('Count');\n",
    "# plt.ylabel('Country');"
   ]
  },
  {
   "cell_type": "markdown",
   "metadata": {},
   "source": [
    "#student\n",
    "<div class=\"alert alert-block alert-warning\">\n",
    "    <b>QUESTION 10:</b>\n",
    "    <br />\n",
    "    What county has the highest number records? If you chose a globally distributed species, what country has the highest number of records?\n",
    "</div>"
   ]
  },
  {
   "cell_type": "markdown",
   "metadata": {},
   "source": [
    "#student\n",
    "\n",
    "YOUR RESPONSE HERE"
   ]
  },
  {
   "cell_type": "code",
   "execution_count": 86,
   "metadata": {},
   "outputs": [
    {
     "data": {
      "image/png": "[encoded data removed]",
      "text/plain": [
       "<Figure size 432x288 with 1 Axes>"
      ]
     },
     "metadata": {
      "needs_background": "light"
     },
     "output_type": "display_data"
    }
   ],
   "source": [
    "my_records_df['elevation'].plot.hist();\n",
    "\n",
    "# Make graph easier to read\n",
    "plt.title('Species Distribution by Elevation')\n",
    "plt.xlabel('Elevation (m)');"
   ]
  },
  {
   "cell_type": "markdown",
   "metadata": {},
   "source": [
    "#student\n",
    "<div class=\"alert alert-block alert-warning\">\n",
    "    <b>QUESTION 11:</b>\n",
    "    <br />\n",
    "    What is the elevation range of your organism?\n",
    "    <br/>\n",
    "    <i>Note:</i> Depending on the species you have chosen, your data frame might not have any values to plot. Why might that be? If this is the case for your species, explain that in your answer here, then go back and try another species.\n",
    "</div>"
   ]
  },
  {
   "cell_type": "markdown",
   "metadata": {},
   "source": [
    "#student\n",
    "\n",
    "YOUR RESPONSE HERE"
   ]
  },
  {
   "cell_type": "code",
   "execution_count": 87,
   "metadata": {},
   "outputs": [
    {
     "data": {
      "image/png": "[encoded data removed]",
      "text/plain": [
       "<Figure size 432x288 with 1 Axes>"
      ]
     },
     "metadata": {
      "needs_background": "light"
     },
     "output_type": "display_data"
    }
   ],
   "source": [
    "my_records_df['basisOfRecord'].value_counts().plot.bar();\n",
    "\n",
    "# This makes the graph easier to read\n",
    "plt.title('Species Distribution by Source');\n",
    "plt.xticks(rotation=0);\n",
    "plt.xlabel('Source');\n",
    "plt.ylabel('Count');"
   ]
  },
  {
   "cell_type": "markdown",
   "metadata": {},
   "source": [
    "#student\n",
    "<div class=\"alert alert-block alert-warning\">\n",
    "    <b>QUESTION 12:</b>\n",
    "    <br />\n",
    "    Which has more: observations or preserved specimens? Why might this be? Are there any additional specimen sources for your organism?\n",
    "</div>"
   ]
  },
  {
   "cell_type": "markdown",
   "metadata": {},
   "source": [
    "#student\n",
    "\n",
    "YOUR RESPONSE HERE"
   ]
  },
  {
   "cell_type": "markdown",
   "metadata": {},
   "source": [
    "---\n",
    "\n",
    "**Make sure that you've answered questions 1-12. Also make sure you've done the 1 code exercise.**\n",
    "\n",
    "You are finished with this notebook! Please run the following cell to generate a download link for your submission file to submit on bCourses. ***It is very likely that this download link will not work. If the download link does not work, please use the alternate download method described below.***\n",
    "\n",
    "Alternate download instructions:\n",
    "- open a new tab and go to https://datahub.berkeley.edu\n",
    "- go to the \"IB-105-ESPM-125-fa20\" folder\n",
    "- click the box next to `notebook1_submission.pdf`\n",
    "- click the \"Download\" link below the menu bar\n",
    "\n",
    "**Check the PDF before submitting and make sure all of your answers & code changes are shown.**"
   ]
  },
  {
   "cell_type": "code",
   "execution_count": 89,
   "metadata": {},
   "outputs": [
    {
     "name": "stdout",
     "output_type": "stream",
     "text": [
      "Processing notebook1.ipynb\n",
      "Generated notebook and autograded\n",
      "Attempting to compile LaTeX\n",
      "Finished generating PDF\n"
     ]
    },
    {
     "data": {
      "text/html": [
       "<h1><a href=\"notebook1_submission.pdf\" download> Download this and submit to gradescope!</a></h1>"
      ],
      "text/plain": [
       "<IPython.core.display.HTML object>"
      ]
     },
     "metadata": {},
     "output_type": "display_data"
    }
   ],
   "source": [
    "!pip install gsexport -q\n",
    "import gsExport\n",
    "gsExport.generateSubmission(\"notebook1.ipynb\")"
   ]
  },
  {
   "cell_type": "markdown",
   "metadata": {},
   "source": [
    "---\n",
    "\n",
    "Notebook developed by: Michelle Koo, Nina Pak, Natalie Graham, Monica Wilkinson, Andy Sheu, Harry Li\n",
    "\n",
    "[Data Science Modules](http://data.berkeley.edu/education/modules)"
   ]
  }
 ],
 "metadata": {
  "anaconda-cloud": {},
  "kernelspec": {
   "display_name": "Python 3",
   "language": "python",
   "name": "python3"
  },
  "language_info": {
   "codemirror_mode": {
    "name": "ipython",
    "version": 3
   },
   "file_extension": ".py",
   "mimetype": "text/x-python",
   "name": "python",
   "nbconvert_exporter": "python",
   "pygments_lexer": "ipython3",
   "version": "3.8.5"
  }
 },
 "nbformat": 4,
 "nbformat_minor": 1
}
